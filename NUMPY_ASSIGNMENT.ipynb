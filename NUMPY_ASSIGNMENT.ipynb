{
  "nbformat": 4,
  "nbformat_minor": 0,
  "metadata": {
    "colab": {
      "provenance": [],
      "authorship_tag": "ABX9TyOK94d1lzNCQamKpffXsLSg",
      "include_colab_link": true
    },
    "kernelspec": {
      "name": "python3",
      "display_name": "Python 3"
    },
    "language_info": {
      "name": "python"
    }
  },
  "cells": [
    {
      "cell_type": "markdown",
      "metadata": {
        "id": "view-in-github",
        "colab_type": "text"
      },
      "source": [
        "<a href=\"https://colab.research.google.com/github/Ananthalakshmi-sm/NUMPY_ASSIGNMENT/blob/main/NUMPY_ASSIGNMENT.ipynb\" target=\"_parent\"><img src=\"https://colab.research.google.com/assets/colab-badge.svg\" alt=\"Open In Colab\"/></a>"
      ]
    },
    {
      "cell_type": "markdown",
      "source": [
        "Beginner"
      ],
      "metadata": {
        "id": "Gl78MAiV9bLr"
      }
    },
    {
      "cell_type": "code",
      "source": [
        "#1.How do you import the NumPy library using an alias?\n",
        "import numpy as np"
      ],
      "metadata": {
        "id": "c_0gXSNj9b_1"
      },
      "execution_count": null,
      "outputs": []
    },
    {
      "cell_type": "code",
      "source": [
        "#2.How do you check the version and configuration of NumPy?\n",
        "import numpy as np\n",
        "print(np.__version__)\n",
        "np.show_config()"
      ],
      "metadata": {
        "colab": {
          "base_uri": "https://localhost:8080/"
        },
        "collapsed": true,
        "id": "T9RGvHvf9l71",
        "outputId": "78ca418a-5804-4439-cf4b-d8881c72d421"
      },
      "execution_count": null,
      "outputs": [
        {
          "output_type": "stream",
          "name": "stdout",
          "text": [
            "2.0.2\n",
            "Build Dependencies:\n",
            "  blas:\n",
            "    detection method: pkgconfig\n",
            "    found: true\n",
            "    include directory: /opt/_internal/cpython-3.12.2/lib/python3.12/site-packages/scipy_openblas64/include\n",
            "    lib directory: /opt/_internal/cpython-3.12.2/lib/python3.12/site-packages/scipy_openblas64/lib\n",
            "    name: scipy-openblas\n",
            "    openblas configuration: OpenBLAS 0.3.27  USE64BITINT DYNAMIC_ARCH NO_AFFINITY\n",
            "      Zen MAX_THREADS=64\n",
            "    pc file directory: /project/.openblas\n",
            "    version: 0.3.27\n",
            "  lapack:\n",
            "    detection method: pkgconfig\n",
            "    found: true\n",
            "    include directory: /opt/_internal/cpython-3.12.2/lib/python3.12/site-packages/scipy_openblas64/include\n",
            "    lib directory: /opt/_internal/cpython-3.12.2/lib/python3.12/site-packages/scipy_openblas64/lib\n",
            "    name: scipy-openblas\n",
            "    openblas configuration: OpenBLAS 0.3.27  USE64BITINT DYNAMIC_ARCH NO_AFFINITY\n",
            "      Zen MAX_THREADS=64\n",
            "    pc file directory: /project/.openblas\n",
            "    version: 0.3.27\n",
            "Compilers:\n",
            "  c:\n",
            "    commands: cc\n",
            "    linker: ld.bfd\n",
            "    name: gcc\n",
            "    version: 10.2.1\n",
            "  c++:\n",
            "    commands: c++\n",
            "    linker: ld.bfd\n",
            "    name: gcc\n",
            "    version: 10.2.1\n",
            "  cython:\n",
            "    commands: cython\n",
            "    linker: cython\n",
            "    name: cython\n",
            "    version: 3.0.11\n",
            "Machine Information:\n",
            "  build:\n",
            "    cpu: x86_64\n",
            "    endian: little\n",
            "    family: x86_64\n",
            "    system: linux\n",
            "  host:\n",
            "    cpu: x86_64\n",
            "    endian: little\n",
            "    family: x86_64\n",
            "    system: linux\n",
            "Python Information:\n",
            "  path: /tmp/build-env-8744k94k/bin/python\n",
            "  version: '3.12'\n",
            "SIMD Extensions:\n",
            "  baseline:\n",
            "  - SSE\n",
            "  - SSE2\n",
            "  - SSE3\n",
            "  found:\n",
            "  - SSSE3\n",
            "  - SSE41\n",
            "  - POPCNT\n",
            "  - SSE42\n",
            "  - AVX\n",
            "  - F16C\n",
            "  - FMA3\n",
            "  - AVX2\n",
            "  not found:\n",
            "  - AVX512F\n",
            "  - AVX512CD\n",
            "  - AVX512_KNL\n",
            "  - AVX512_KNM\n",
            "  - AVX512_SKX\n",
            "  - AVX512_CLX\n",
            "  - AVX512_CNL\n",
            "  - AVX512_ICL\n",
            "\n"
          ]
        }
      ]
    },
    {
      "cell_type": "code",
      "source": [
        "#3.How do you create a vector filled with zeros of size 10?\n",
        "import numpy as np\n",
        "vector=np.zeros(10)\n",
        "print(vector)"
      ],
      "metadata": {
        "colab": {
          "base_uri": "https://localhost:8080/"
        },
        "id": "06GhTvFJ-lBm",
        "outputId": "f3b3fc8b-d894-47c6-f92c-97cc4ab224ad"
      },
      "execution_count": null,
      "outputs": [
        {
          "output_type": "stream",
          "name": "stdout",
          "text": [
            "[0. 0. 0. 0. 0. 0. 0. 0. 0. 0.]\n"
          ]
        }
      ]
    },
    {
      "cell_type": "code",
      "source": [
        "#4.How do you find help/documentation for a NumPy function from the command line?\n",
        "import numpy as np\n",
        "help(np.array)"
      ],
      "metadata": {
        "colab": {
          "base_uri": "https://localhost:8080/"
        },
        "collapsed": true,
        "id": "ytbpeaBc-5c-",
        "outputId": "6ff8a1eb-43a5-459b-ac31-58d9116896a7"
      },
      "execution_count": null,
      "outputs": [
        {
          "output_type": "stream",
          "name": "stdout",
          "text": [
            "Help on built-in function array in module numpy:\n",
            "\n",
            "array(...)\n",
            "    array(object, dtype=None, *, copy=True, order='K', subok=False, ndmin=0,\n",
            "          like=None)\n",
            "\n",
            "    Create an array.\n",
            "\n",
            "    Parameters\n",
            "    ----------\n",
            "    object : array_like\n",
            "        An array, any object exposing the array interface, an object whose\n",
            "        ``__array__`` method returns an array, or any (nested) sequence.\n",
            "        If object is a scalar, a 0-dimensional array containing object is\n",
            "        returned.\n",
            "    dtype : data-type, optional\n",
            "        The desired data-type for the array. If not given, NumPy will try to use\n",
            "        a default ``dtype`` that can represent the values (by applying promotion\n",
            "        rules when necessary.)\n",
            "    copy : bool, optional\n",
            "        If ``True`` (default), then the array data is copied. If ``None``,\n",
            "        a copy will only be made if ``__array__`` returns a copy, if obj is\n",
            "        a nested sequence, or if a copy is needed to satisfy any of the other\n",
            "        requirements (``dtype``, ``order``, etc.). Note that any copy of\n",
            "        the data is shallow, i.e., for arrays with object dtype, the new\n",
            "        array will point to the same objects. See Examples for `ndarray.copy`.\n",
            "        For ``False`` it raises a ``ValueError`` if a copy cannot be avoided.\n",
            "        Default: ``True``.\n",
            "    order : {'K', 'A', 'C', 'F'}, optional\n",
            "        Specify the memory layout of the array. If object is not an array, the\n",
            "        newly created array will be in C order (row major) unless 'F' is\n",
            "        specified, in which case it will be in Fortran order (column major).\n",
            "        If object is an array the following holds.\n",
            "\n",
            "        ===== ========= ===================================================\n",
            "        order  no copy                     copy=True\n",
            "        ===== ========= ===================================================\n",
            "        'K'   unchanged F & C order preserved, otherwise most similar order\n",
            "        'A'   unchanged F order if input is F and not C, otherwise C order\n",
            "        'C'   C order   C order\n",
            "        'F'   F order   F order\n",
            "        ===== ========= ===================================================\n",
            "\n",
            "        When ``copy=None`` and a copy is made for other reasons, the result is\n",
            "        the same as if ``copy=True``, with some exceptions for 'A', see the\n",
            "        Notes section. The default order is 'K'.\n",
            "    subok : bool, optional\n",
            "        If True, then sub-classes will be passed-through, otherwise\n",
            "        the returned array will be forced to be a base-class array (default).\n",
            "    ndmin : int, optional\n",
            "        Specifies the minimum number of dimensions that the resulting\n",
            "        array should have.  Ones will be prepended to the shape as\n",
            "        needed to meet this requirement.\n",
            "    like : array_like, optional\n",
            "        Reference object to allow the creation of arrays which are not\n",
            "        NumPy arrays. If an array-like passed in as ``like`` supports\n",
            "        the ``__array_function__`` protocol, the result will be defined\n",
            "        by it. In this case, it ensures the creation of an array object\n",
            "        compatible with that passed in via this argument.\n",
            "\n",
            "        .. versionadded:: 1.20.0\n",
            "\n",
            "    Returns\n",
            "    -------\n",
            "    out : ndarray\n",
            "        An array object satisfying the specified requirements.\n",
            "\n",
            "    See Also\n",
            "    --------\n",
            "    empty_like : Return an empty array with shape and type of input.\n",
            "    ones_like : Return an array of ones with shape and type of input.\n",
            "    zeros_like : Return an array of zeros with shape and type of input.\n",
            "    full_like : Return a new array with shape of input filled with value.\n",
            "    empty : Return a new uninitialized array.\n",
            "    ones : Return a new array setting values to one.\n",
            "    zeros : Return a new array setting values to zero.\n",
            "    full : Return a new array of given shape filled with value.\n",
            "    copy: Return an array copy of the given object.\n",
            "\n",
            "\n",
            "    Notes\n",
            "    -----\n",
            "    When order is 'A' and ``object`` is an array in neither 'C' nor 'F' order,\n",
            "    and a copy is forced by a change in dtype, then the order of the result is\n",
            "    not necessarily 'C' as expected. This is likely a bug.\n",
            "\n",
            "    Examples\n",
            "    --------\n",
            "    >>> np.array([1, 2, 3])\n",
            "    array([1, 2, 3])\n",
            "\n",
            "    Upcasting:\n",
            "\n",
            "    >>> np.array([1, 2, 3.0])\n",
            "    array([ 1.,  2.,  3.])\n",
            "\n",
            "    More than one dimension:\n",
            "\n",
            "    >>> np.array([[1, 2], [3, 4]])\n",
            "    array([[1, 2],\n",
            "           [3, 4]])\n",
            "\n",
            "    Minimum dimensions 2:\n",
            "\n",
            "    >>> np.array([1, 2, 3], ndmin=2)\n",
            "    array([[1, 2, 3]])\n",
            "\n",
            "    Type provided:\n",
            "\n",
            "    >>> np.array([1, 2, 3], dtype=complex)\n",
            "    array([ 1.+0.j,  2.+0.j,  3.+0.j])\n",
            "\n",
            "    Data-type consisting of more than one element:\n",
            "\n",
            "    >>> x = np.array([(1,2),(3,4)],dtype=[('a','<i4'),('b','<i4')])\n",
            "    >>> x['a']\n",
            "    array([1, 3])\n",
            "\n",
            "    Creating an array from sub-classes:\n",
            "\n",
            "    >>> np.array(np.asmatrix('1 2; 3 4'))\n",
            "    array([[1, 2],\n",
            "           [3, 4]])\n",
            "\n",
            "    >>> np.array(np.asmatrix('1 2; 3 4'), subok=True)\n",
            "    matrix([[1, 2],\n",
            "            [3, 4]])\n",
            "\n"
          ]
        }
      ]
    },
    {
      "cell_type": "code",
      "source": [
        "#5.How do you create a zero vector of size 10 with the fifth element as 1?\n",
        "import numpy as np\n",
        "vector=np.zeros(10)\n",
        "vector[4]=1\n",
        "print(vector)"
      ],
      "metadata": {
        "colab": {
          "base_uri": "https://localhost:8080/"
        },
        "id": "EUVRF5Be_baz",
        "outputId": "f352a133-7c43-4b58-e967-8672c21a5ef1"
      },
      "execution_count": null,
      "outputs": [
        {
          "output_type": "stream",
          "name": "stdout",
          "text": [
            "[0. 0. 0. 0. 1. 0. 0. 0. 0. 0.]\n"
          ]
        }
      ]
    },
    {
      "cell_type": "code",
      "source": [
        "#6.How do you create a vector with values from 10 to 49?\n",
        "import numpy as np\n",
        "vector=np.arange(10,50)\n",
        "print(vector)"
      ],
      "metadata": {
        "colab": {
          "base_uri": "https://localhost:8080/"
        },
        "id": "WRX5-sG4_-8o",
        "outputId": "70ed8b77-725d-4188-c173-883bef454f6d"
      },
      "execution_count": null,
      "outputs": [
        {
          "output_type": "stream",
          "name": "stdout",
          "text": [
            "[10 11 12 13 14 15 16 17 18 19 20 21 22 23 24 25 26 27 28 29 30 31 32 33\n",
            " 34 35 36 37 38 39 40 41 42 43 44 45 46 47 48 49]\n"
          ]
        }
      ]
    },
    {
      "cell_type": "code",
      "source": [
        "#7.How do you reverse a vector?\n",
        "import numpy as np\n",
        "vector=np.arange(10)\n",
        "vector=vector[::-1]\n",
        "print(vector)"
      ],
      "metadata": {
        "colab": {
          "base_uri": "https://localhost:8080/"
        },
        "id": "vQFh33nGASpG",
        "outputId": "05f9c704-aed7-4973-a669-2aeee16da41a"
      },
      "execution_count": null,
      "outputs": [
        {
          "output_type": "stream",
          "name": "stdout",
          "text": [
            "[9 8 7 6 5 4 3 2 1 0]\n"
          ]
        }
      ]
    },
    {
      "cell_type": "code",
      "source": [
        "#8.How do you create a 3x3 matrix with values from 0 to 8?\n",
        "import numpy as np\n",
        "matrix=np.arange(9).reshape(3,3)\n",
        "print(matrix)"
      ],
      "metadata": {
        "colab": {
          "base_uri": "https://localhost:8080/"
        },
        "id": "81UMvSheAwre",
        "outputId": "6e6ff100-6b57-4076-bcdf-7f8d8fd98f0c"
      },
      "execution_count": null,
      "outputs": [
        {
          "output_type": "stream",
          "name": "stdout",
          "text": [
            "[[0 1 2]\n",
            " [3 4 5]\n",
            " [6 7 8]]\n"
          ]
        }
      ]
    },
    {
      "cell_type": "code",
      "source": [
        "#9.How do you find indices of non-zero elements in an array?\n",
        "import numpy as np\n",
        "array=np.array([1,0,2,0,3,0])\n",
        "indices=np.nonzero(array)\n",
        "print(indices)"
      ],
      "metadata": {
        "colab": {
          "base_uri": "https://localhost:8080/"
        },
        "id": "kp3sex9tBGMa",
        "outputId": "78120b56-16c5-4e34-dbe3-104c85285948"
      },
      "execution_count": null,
      "outputs": [
        {
          "output_type": "stream",
          "name": "stdout",
          "text": [
            "(array([0, 2, 4]),)\n"
          ]
        }
      ]
    },
    {
      "cell_type": "code",
      "source": [
        "#10.How do you create a 3x3 identity matrix?\n",
        "import numpy as np\n",
        "matrix=np.eye(3)\n",
        "print(matrix)"
      ],
      "metadata": {
        "colab": {
          "base_uri": "https://localhost:8080/"
        },
        "id": "uGybMKOmB7QE",
        "outputId": "bfaae4a1-bdf5-460d-93c2-32717c3eee5c"
      },
      "execution_count": null,
      "outputs": [
        {
          "output_type": "stream",
          "name": "stdout",
          "text": [
            "[[1. 0. 0.]\n",
            " [0. 1. 0.]\n",
            " [0. 0. 1.]]\n"
          ]
        }
      ]
    },
    {
      "cell_type": "code",
      "source": [
        "#11.How do you generate a 3x3x3 array with random values?\n",
        "import numpy as np\n",
        "arr=np.random.random((3,3,3))\n",
        "print(arr)"
      ],
      "metadata": {
        "id": "rLnn53pbCkel",
        "colab": {
          "base_uri": "https://localhost:8080/"
        },
        "outputId": "3d45ee04-8d80-4d9e-cf1d-c6f2715dc625"
      },
      "execution_count": null,
      "outputs": [
        {
          "output_type": "stream",
          "name": "stdout",
          "text": [
            "[[[0.91174116 0.44426075 0.88795893]\n",
            "  [0.38663122 0.42892991 0.27142402]\n",
            "  [0.7731192  0.09877267 0.58176307]]\n",
            "\n",
            " [[0.71761485 0.53702623 0.76980731]\n",
            "  [0.11008409 0.37206168 0.57114669]\n",
            "  [0.6828292  0.62904474 0.83536532]]\n",
            "\n",
            " [[0.96656571 0.66075439 0.09020114]\n",
            "  [0.38726837 0.61212528 0.74095005]\n",
            "  [0.80928451 0.17457812 0.04522511]]]\n"
          ]
        }
      ]
    },
    {
      "cell_type": "code",
      "source": [
        "#12.How do you find the min and max values in a 10x10 random matrix?\n",
        "import numpy as np\n",
        "matrix=np.random.random((10,10))\n",
        "print(\"max value\",matrix.max())\n",
        "print(\"min value\",matrix.min())"
      ],
      "metadata": {
        "colab": {
          "base_uri": "https://localhost:8080/"
        },
        "id": "B8bN-n0LZuLr",
        "outputId": "b59b8f84-ded2-42ec-aa90-3d99aaa3fd70"
      },
      "execution_count": null,
      "outputs": [
        {
          "output_type": "stream",
          "name": "stdout",
          "text": [
            "max value 0.9916784488276601\n",
            "min value 0.04025483093007409\n"
          ]
        }
      ]
    },
    {
      "cell_type": "code",
      "source": [
        "#13.How do you calculate the mean of a random vector of size 30?\n",
        "import numpy as np\n",
        "vector=np.random.random(30)\n",
        "mean=vector.mean()\n",
        "print(\"mean\",mean)"
      ],
      "metadata": {
        "colab": {
          "base_uri": "https://localhost:8080/"
        },
        "id": "vEZX0oxTbAXK",
        "outputId": "425db8e6-ff77-4f5d-ebd4-56b007c8c21f"
      },
      "execution_count": null,
      "outputs": [
        {
          "output_type": "stream",
          "name": "stdout",
          "text": [
            "mean 0.4564709839528212\n"
          ]
        }
      ]
    },
    {
      "cell_type": "code",
      "source": [
        "#14.How do you create a 2D array with 1s on the border and 0s inside?\n",
        "import numpy as np\n",
        "array=np.ones((5,5))\n",
        "array[1:-1,1:-1]=0\n",
        "print(array)"
      ],
      "metadata": {
        "colab": {
          "base_uri": "https://localhost:8080/"
        },
        "id": "hxmnRexXbi7C",
        "outputId": "48065c90-f925-40ff-9b8f-73eeb96bc5d8"
      },
      "execution_count": null,
      "outputs": [
        {
          "output_type": "stream",
          "name": "stdout",
          "text": [
            "[[1. 1. 1. 1. 1.]\n",
            " [1. 0. 0. 0. 1.]\n",
            " [1. 0. 0. 0. 1.]\n",
            " [1. 0. 0. 0. 1.]\n",
            " [1. 1. 1. 1. 1.]]\n"
          ]
        }
      ]
    },
    {
      "cell_type": "code",
      "source": [
        "#15.What is the result of operations like 0 * np.nan, np.nan == np.nan, etc.?\n",
        "import numpy as np\n",
        "print(0*np.nan)\n",
        "print(np.nan==np.nan)\n",
        "print(np.nan!=np.nan)\n",
        "print(np.isnan(np.nan))\n"
      ],
      "metadata": {
        "colab": {
          "base_uri": "https://localhost:8080/"
        },
        "id": "duN8I3cZcvmj",
        "outputId": "c3dde897-029e-4a00-f8cc-5ba4df00b363"
      },
      "execution_count": null,
      "outputs": [
        {
          "output_type": "stream",
          "name": "stdout",
          "text": [
            "nan\n",
            "False\n",
            "True\n",
            "True\n"
          ]
        }
      ]
    },
    {
      "cell_type": "code",
      "source": [
        "#16.How do you create a matrix with values below the diagonal?\n",
        "import numpy as np\n",
        "matrix=np.tril(np.ones((3,3)))\n",
        "print(matrix)"
      ],
      "metadata": {
        "colab": {
          "base_uri": "https://localhost:8080/"
        },
        "id": "nSsSbEl0doH3",
        "outputId": "b3ab5439-ff37-4928-e579-be8d78218d3b"
      },
      "execution_count": null,
      "outputs": [
        {
          "output_type": "stream",
          "name": "stdout",
          "text": [
            "[[1. 0. 0.]\n",
            " [1. 1. 0.]\n",
            " [1. 1. 1.]]\n"
          ]
        }
      ]
    },
    {
      "cell_type": "code",
      "source": [
        "#17.How do you create a checkerboard pattern in an 8x8 matrix?\n",
        "import numpy as np\n",
        "checkerboard=np.zeros((8,8),dtype=int)\n",
        "checkerboard[1::2,::2]=1\n",
        "checkerboard[::2,1::2]=1\n",
        "print(checkerboard)"
      ],
      "metadata": {
        "colab": {
          "base_uri": "https://localhost:8080/"
        },
        "id": "BGzPoEoFeRLQ",
        "outputId": "89fe0952-4e81-48c4-c47b-a33da682e0c5"
      },
      "execution_count": null,
      "outputs": [
        {
          "output_type": "stream",
          "name": "stdout",
          "text": [
            "[[0 1 0 1 0 1 0 1]\n",
            " [1 0 1 0 1 0 1 0]\n",
            " [0 1 0 1 0 1 0 1]\n",
            " [1 0 1 0 1 0 1 0]\n",
            " [0 1 0 1 0 1 0 1]\n",
            " [1 0 1 0 1 0 1 0]\n",
            " [0 1 0 1 0 1 0 1]\n",
            " [1 0 1 0 1 0 1 0]]\n"
          ]
        }
      ]
    },
    {
      "cell_type": "code",
      "source": [
        "#18.How do you find the index of a flat element in a 3D shape?\n",
        "import numpy as np\n",
        "arr = np.arange(27).reshape(3, 3, 3)\n",
        "flat_index = 19\n",
        "index_3d = np.unravel_index(flat_index, arr.shape)\n",
        "print(index_3d)"
      ],
      "metadata": {
        "id": "w7lb74BxfGgt",
        "colab": {
          "base_uri": "https://localhost:8080/"
        },
        "outputId": "754b14a7-d6d8-450c-884b-c99dd00e4580"
      },
      "execution_count": null,
      "outputs": [
        {
          "output_type": "stream",
          "name": "stdout",
          "text": [
            "(np.int64(2), np.int64(0), np.int64(1))\n"
          ]
        }
      ]
    },
    {
      "cell_type": "code",
      "source": [
        "#19.How do you create a checkerboard pattern using NumPy's tile function?\n",
        "import numpy as np\n",
        "checkerboard=np.tile([[0,1],[1,0]],(4,4))\n",
        "print(checkerboard)"
      ],
      "metadata": {
        "colab": {
          "base_uri": "https://localhost:8080/"
        },
        "id": "ZFtgLOMa5Dna",
        "outputId": "5d3c9062-ecdc-4ea0-a89f-5a463296fbf2"
      },
      "execution_count": null,
      "outputs": [
        {
          "output_type": "stream",
          "name": "stdout",
          "text": [
            "[[0 1 0 1 0 1 0 1]\n",
            " [1 0 1 0 1 0 1 0]\n",
            " [0 1 0 1 0 1 0 1]\n",
            " [1 0 1 0 1 0 1 0]\n",
            " [0 1 0 1 0 1 0 1]\n",
            " [1 0 1 0 1 0 1 0]\n",
            " [0 1 0 1 0 1 0 1]\n",
            " [1 0 1 0 1 0 1 0]]\n"
          ]
        }
      ]
    },
    {
      "cell_type": "code",
      "source": [
        "#20.How do you normalize a matrix (values between 0 and 1)?\n",
        "import numpy as np\n",
        "matrix = np.random.randint(1, 100, (3, 3))\n",
        "normalized = (matrix - np.min(matrix)) / (np.max(matrix) - np.min(matrix))\n",
        "print(\"Original:\\n\", matrix)\n",
        "print(\"Normalized:\\n\", normalized)"
      ],
      "metadata": {
        "colab": {
          "base_uri": "https://localhost:8080/"
        },
        "id": "Fn7zPDni5z6_",
        "outputId": "6b88950a-a240-4fa7-a9aa-f8945f446fff"
      },
      "execution_count": null,
      "outputs": [
        {
          "output_type": "stream",
          "name": "stdout",
          "text": [
            "Original:\n",
            " [[80 69 19]\n",
            " [46 90 13]\n",
            " [34 53 54]]\n",
            "Normalized:\n",
            " [[0.87012987 0.72727273 0.07792208]\n",
            " [0.42857143 1.         0.        ]\n",
            " [0.27272727 0.51948052 0.53246753]]\n"
          ]
        }
      ]
    },
    {
      "cell_type": "code",
      "source": [
        "#21. How do you define a custom data type for storing color (RGBA)?\n",
        "import numpy as np\n",
        "color_dtype = np.dtype([('r', np.ubyte), ('g', np.ubyte), ('b', np.ubyte), ('a', np.ubyte)])\n",
        "colors = np.array([(255, 0, 0, 255), (0, 255, 0, 255)], dtype=color_dtype)\n",
        "print(colors)\n",
        "print(colors['r'])"
      ],
      "metadata": {
        "colab": {
          "base_uri": "https://localhost:8080/"
        },
        "id": "M2jY2s-P5_nf",
        "outputId": "82fbd78c-f42b-4b89-f8d3-32b2c13c6258"
      },
      "execution_count": null,
      "outputs": [
        {
          "output_type": "stream",
          "name": "stdout",
          "text": [
            "[(255,   0, 0, 255) (  0, 255, 0, 255)]\n",
            "[255   0]\n"
          ]
        }
      ]
    },
    {
      "cell_type": "code",
      "source": [
        "#22.How do you perform a matrix multiplication between two matrices?\n",
        "import numpy as np\n",
        "A=np.array([[1,2],[3,4]])\n",
        "B=np.array([[5,6],[7,8]])\n",
        "result=A@B\n",
        "print(result)"
      ],
      "metadata": {
        "colab": {
          "base_uri": "https://localhost:8080/"
        },
        "id": "kuHHn9wx6sW4",
        "outputId": "99593bf0-b4ed-4ae8-9cae-f4608ee622bf"
      },
      "execution_count": null,
      "outputs": [
        {
          "output_type": "stream",
          "name": "stdout",
          "text": [
            "[[19 22]\n",
            " [43 50]]\n"
          ]
        }
      ]
    },
    {
      "cell_type": "code",
      "source": [
        "#23.How do you negate values between two given numbers in a vector?\n",
        "import numpy as np\n",
        "x=np.arange(10)\n",
        "print(\"orginal:\",x)\n",
        "lower,upper=3,7\n",
        "x[(x<=upper)&(x>=lower)]*=-1\n",
        "print(\"Modified\",x)"
      ],
      "metadata": {
        "id": "UiUh8mhJ7QO5",
        "colab": {
          "base_uri": "https://localhost:8080/"
        },
        "outputId": "64618756-db2b-4800-b7db-0728b88ee70f"
      },
      "execution_count": null,
      "outputs": [
        {
          "output_type": "stream",
          "name": "stdout",
          "text": [
            "orginal: [0 1 2 3 4 5 6 7 8 9]\n",
            "Modified [ 0  1  2 -3 -4 -5 -6 -7  8  9]\n"
          ]
        }
      ]
    },
    {
      "cell_type": "code",
      "source": [
        "#24.What is the output of sum(range(5), -1) vs np.sum(range(5), -1)?\n",
        "import numpy as np\n",
        "np.sum(range(5),-1)"
      ],
      "metadata": {
        "colab": {
          "base_uri": "https://localhost:8080/"
        },
        "id": "HX51kXrK1Oah",
        "outputId": "0c012a9a-884d-4786-f49d-43d243c546d5"
      },
      "execution_count": null,
      "outputs": [
        {
          "output_type": "execute_result",
          "data": {
            "text/plain": [
              "np.int64(10)"
            ]
          },
          "metadata": {},
          "execution_count": 2
        }
      ]
    },
    {
      "cell_type": "markdown",
      "source": [
        "Beginner"
      ],
      "metadata": {
        "id": "AV5V3f7i2Ri_"
      }
    },
    {
      "cell_type": "code",
      "source": [
        "#26.What happens when you divide integers or floats by zero in NumPy?\n",
        "import numpy as np\n",
        "np.array([1,2,3],dtype=int)/0"
      ],
      "metadata": {
        "colab": {
          "base_uri": "https://localhost:8080/"
        },
        "id": "SS1ZMTgb2f7Y",
        "outputId": "8d9b3e7a-13a4-428f-b5d6-197d2daa27a8"
      },
      "execution_count": null,
      "outputs": [
        {
          "output_type": "stream",
          "name": "stderr",
          "text": [
            "/tmp/ipython-input-1992047954.py:3: RuntimeWarning: divide by zero encountered in divide\n",
            "  np.array([1,2,3],dtype=int)/0\n"
          ]
        },
        {
          "output_type": "execute_result",
          "data": {
            "text/plain": [
              "array([inf, inf, inf])"
            ]
          },
          "metadata": {},
          "execution_count": 4
        }
      ]
    },
    {
      "cell_type": "code",
      "source": [
        "import numpy as np\n",
        "np.array([1.,2.,3.],dtype=float)/0"
      ],
      "metadata": {
        "colab": {
          "base_uri": "https://localhost:8080/"
        },
        "id": "yZZDp_Go3D4U",
        "outputId": "e09e1f2f-e529-4ed0-9e73-056e17e1ae29"
      },
      "execution_count": null,
      "outputs": [
        {
          "output_type": "stream",
          "name": "stderr",
          "text": [
            "/tmp/ipython-input-216862626.py:2: RuntimeWarning: divide by zero encountered in divide\n",
            "  np.array([1.,2.,3.],dtype=float)/0\n"
          ]
        },
        {
          "output_type": "execute_result",
          "data": {
            "text/plain": [
              "array([inf, inf, inf])"
            ]
          },
          "metadata": {},
          "execution_count": 5
        }
      ]
    },
    {
      "cell_type": "code",
      "source": [
        "import numpy as np\n",
        "np.array([1.,0.],dtype=float)/0"
      ],
      "metadata": {
        "colab": {
          "base_uri": "https://localhost:8080/"
        },
        "id": "SeCU-Jmq3aVv",
        "outputId": "75d279dc-5abf-4e16-bd70-777daa171ec1"
      },
      "execution_count": null,
      "outputs": [
        {
          "output_type": "stream",
          "name": "stderr",
          "text": [
            "/tmp/ipython-input-1815010736.py:2: RuntimeWarning: divide by zero encountered in divide\n",
            "  np.array([1.,0.],dtype=float)/0\n",
            "/tmp/ipython-input-1815010736.py:2: RuntimeWarning: invalid value encountered in divide\n",
            "  np.array([1.,0.],dtype=float)/0\n"
          ]
        },
        {
          "output_type": "execute_result",
          "data": {
            "text/plain": [
              "array([inf, nan])"
            ]
          },
          "metadata": {},
          "execution_count": 6
        }
      ]
    },
    {
      "cell_type": "code",
      "source": [
        "#27.How do you round a float array away from zero?\n",
        "import numpy as np\n",
        "x=np.array([-1.2, -1.5, -2.7, 1.2, 1.5, 2.7])\n",
        "y=np.copysign(np.ceil(np.abs(x)),x)\n",
        "print(y)"
      ],
      "metadata": {
        "colab": {
          "base_uri": "https://localhost:8080/"
        },
        "id": "ZeqJ2Iju3nB1",
        "outputId": "de0782ff-74f8-4bc1-9c5f-49ede556716f"
      },
      "execution_count": null,
      "outputs": [
        {
          "output_type": "stream",
          "name": "stdout",
          "text": [
            "[-2. -2. -3.  2.  2.  3.]\n"
          ]
        }
      ]
    },
    {
      "cell_type": "code",
      "source": [
        "#28.How do you extract the integer part of a float using multiple methods?\n",
        "import numpy as np\n",
        "x = np.array([1.2, 2.9, -3.7, -1.1])"
      ],
      "metadata": {
        "id": "34glDq2z4cZb"
      },
      "execution_count": null,
      "outputs": []
    },
    {
      "cell_type": "code",
      "source": [
        "#Using np.floor()\n",
        "np.floor(x)"
      ],
      "metadata": {
        "colab": {
          "base_uri": "https://localhost:8080/"
        },
        "id": "Ud3LvrQR6sT_",
        "outputId": "b2a04efe-a2e4-460d-b6c3-93e342859384"
      },
      "execution_count": null,
      "outputs": [
        {
          "output_type": "execute_result",
          "data": {
            "text/plain": [
              "array([ 1.,  2., -4., -2.])"
            ]
          },
          "metadata": {},
          "execution_count": 9
        }
      ]
    },
    {
      "cell_type": "code",
      "source": [
        "#Using np.trunc()\n",
        "np.trunc(x)"
      ],
      "metadata": {
        "colab": {
          "base_uri": "https://localhost:8080/"
        },
        "id": "J_fCq6Sb6zqq",
        "outputId": "f593e1f4-1dda-4313-d929-f52682e1e345"
      },
      "execution_count": null,
      "outputs": [
        {
          "output_type": "execute_result",
          "data": {
            "text/plain": [
              "array([ 1.,  2., -3., -1.])"
            ]
          },
          "metadata": {},
          "execution_count": 10
        }
      ]
    },
    {
      "cell_type": "code",
      "source": [
        "#Using np.fix()\n",
        "np.fix(x)"
      ],
      "metadata": {
        "colab": {
          "base_uri": "https://localhost:8080/"
        },
        "id": "Y70kWGVR65Y3",
        "outputId": "0f2a0ddf-1c0f-4849-9b93-ad35a81eb360"
      },
      "execution_count": null,
      "outputs": [
        {
          "output_type": "execute_result",
          "data": {
            "text/plain": [
              "array([ 1.,  2., -3., -1.])"
            ]
          },
          "metadata": {},
          "execution_count": 11
        }
      ]
    },
    {
      "cell_type": "code",
      "source": [
        "#Using astype(int)\n",
        "x.astype(int)"
      ],
      "metadata": {
        "colab": {
          "base_uri": "https://localhost:8080/"
        },
        "id": "Ut2h23WP6_39",
        "outputId": "b47ab147-510f-41ba-b40e-8111d1293b0a"
      },
      "execution_count": null,
      "outputs": [
        {
          "output_type": "execute_result",
          "data": {
            "text/plain": [
              "array([ 1,  2, -3, -1])"
            ]
          },
          "metadata": {},
          "execution_count": 12
        }
      ]
    },
    {
      "cell_type": "code",
      "source": [
        "#Using np.ceil()\n",
        "np.ceil(x)"
      ],
      "metadata": {
        "colab": {
          "base_uri": "https://localhost:8080/"
        },
        "id": "PYct8kGF7Jya",
        "outputId": "d26c774f-fc3c-4b4c-ad77-82b347d34c3c"
      },
      "execution_count": null,
      "outputs": [
        {
          "output_type": "execute_result",
          "data": {
            "text/plain": [
              "array([ 2.,  3., -3., -1.])"
            ]
          },
          "metadata": {},
          "execution_count": 13
        }
      ]
    },
    {
      "cell_type": "code",
      "source": [
        "#29.How do you create a 5x5 matrix with row values ranging from 0 to 4?\n",
        "np.tile(np.arange(5),(5,1))"
      ],
      "metadata": {
        "colab": {
          "base_uri": "https://localhost:8080/"
        },
        "id": "77B-LDhY8D9Z",
        "outputId": "48b86076-3493-459b-bbef-910fb38cc0e7"
      },
      "execution_count": null,
      "outputs": [
        {
          "output_type": "execute_result",
          "data": {
            "text/plain": [
              "array([[0, 1, 2, 3, 4],\n",
              "       [0, 1, 2, 3, 4],\n",
              "       [0, 1, 2, 3, 4],\n",
              "       [0, 1, 2, 3, 4],\n",
              "       [0, 1, 2, 3, 4]])"
            ]
          },
          "metadata": {},
          "execution_count": 14
        }
      ]
    },
    {
      "cell_type": "code",
      "source": [
        "#30.How do you use a generator to create a NumPy array?\n",
        "import numpy as np\n",
        "gen=(i*i for i in range(5))\n",
        "arr=np.fromiter(gen,dtype=int)\n",
        "print(arr)"
      ],
      "metadata": {
        "colab": {
          "base_uri": "https://localhost:8080/"
        },
        "id": "qcBYmVBy8h7Q",
        "outputId": "74df719a-b703-4216-b47d-558407f5bccd"
      },
      "execution_count": null,
      "outputs": [
        {
          "output_type": "stream",
          "name": "stdout",
          "text": [
            "[ 0  1  4  9 16]\n"
          ]
        }
      ]
    },
    {
      "cell_type": "code",
      "source": [
        "#31.How do you create an array with evenly spaced values between 0 and 1 (excluded)?\n",
        "import numpy as np\n",
        "array=np.linspace(0,1,num=10,endpoint=False)\n",
        "print(array)"
      ],
      "metadata": {
        "id": "tAEvPKda9OKZ",
        "colab": {
          "base_uri": "https://localhost:8080/"
        },
        "outputId": "7d6afc20-9770-4626-c93b-01cb2c9bcb6b"
      },
      "execution_count": null,
      "outputs": [
        {
          "output_type": "stream",
          "name": "stdout",
          "text": [
            "[0.  0.1 0.2 0.3 0.4 0.5 0.6 0.7 0.8 0.9]\n"
          ]
        }
      ]
    },
    {
      "cell_type": "code",
      "source": [
        "#32.How do you sort a random array?\n",
        "rand_arr=np.random.rand(5)\n",
        "print(\"original:\",rand_arr)\n",
        "sorted_arr=np.sort(rand_arr)\n",
        "print(\"sorted_arr:\",sorted_arr)"
      ],
      "metadata": {
        "colab": {
          "base_uri": "https://localhost:8080/"
        },
        "id": "_WgmhbpsH8zf",
        "outputId": "a57e26da-33bc-4d3b-b64e-ff72d67f49a9"
      },
      "execution_count": null,
      "outputs": [
        {
          "output_type": "stream",
          "name": "stdout",
          "text": [
            "original: [0.6742194  0.30362575 0.74551238 0.39372184 0.31426633]\n",
            "sorted_arr: [0.30362575 0.31426633 0.39372184 0.6742194  0.74551238]\n"
          ]
        }
      ]
    },
    {
      "cell_type": "code",
      "source": [
        "#33.How do you sum an array faster than using np.sum?\n",
        "import numpy as np\n",
        "arr=np.random.rand(10000)\n",
        "total=arr.sum()\n",
        "print(total)"
      ],
      "metadata": {
        "colab": {
          "base_uri": "https://localhost:8080/"
        },
        "id": "vUqw0exOJWAF",
        "outputId": "3dc827a6-b63c-4545-8ec1-f8adff68f8db"
      },
      "execution_count": null,
      "outputs": [
        {
          "output_type": "stream",
          "name": "stdout",
          "text": [
            "5023.498105936873\n"
          ]
        }
      ]
    },
    {
      "cell_type": "code",
      "source": [
        "#34.How do you check if two arrays are equal?\n",
        "a=np.array([1,2,3])\n",
        "b=np.array([1,2,3])\n",
        "c=np.array([1,2,4])\n",
        "print(np.array_equal(a,b))\n",
        "print(np.array_equal(a,c))"
      ],
      "metadata": {
        "colab": {
          "base_uri": "https://localhost:8080/"
        },
        "id": "WwoXKlalLjd7",
        "outputId": "cd574759-dcde-4620-e1b5-da7df78b7a13"
      },
      "execution_count": null,
      "outputs": [
        {
          "output_type": "stream",
          "name": "stdout",
          "text": [
            "True\n",
            "False\n"
          ]
        }
      ]
    },
    {
      "cell_type": "code",
      "source": [
        "#35.How do you make a NumPy array read-only? Intermediate\n",
        "import numpy as np\n",
        "arr=np.array([1,2,3,4,5])\n",
        "arr.flags.writeable=False\n",
        "try:\n",
        "    arr[0] = 10\n",
        "except ValueError as e:\n",
        "    print(e)"
      ],
      "metadata": {
        "colab": {
          "base_uri": "https://localhost:8080/"
        },
        "id": "RzzdWAh9MoBO",
        "outputId": "720d041f-8db1-43ae-f58a-9ad28a84d647"
      },
      "execution_count": null,
      "outputs": [
        {
          "output_type": "stream",
          "name": "stdout",
          "text": [
            "assignment destination is read-only\n"
          ]
        }
      ]
    },
    {
      "cell_type": "code",
      "source": [
        "#36.How do you convert Cartesian coordinates to polar coordinates?\n",
        "import numpy as np\n",
        "x=3\n",
        "y=4\n",
        "r=np.sqrt(x**2+y**2)\n",
        "theta = np.arctan2(y, x)\n",
        "print(\"Radius:\", r)\n",
        "print(\"Angle (radians):\", theta)"
      ],
      "metadata": {
        "colab": {
          "base_uri": "https://localhost:8080/"
        },
        "id": "Sf9Sg1kqN2f_",
        "outputId": "1649e6e6-5ec3-4fec-b47d-49666704305d"
      },
      "execution_count": null,
      "outputs": [
        {
          "output_type": "stream",
          "name": "stdout",
          "text": [
            "Radius: 5.0\n",
            "Angle (radians): 0.9272952180016122\n"
          ]
        }
      ]
    },
    {
      "cell_type": "code",
      "source": [
        "#37.How do you replace the maximum value in an array with zero?\n",
        "arr = np.array([1, 3, 7, 2, 5])\n",
        "max_index = np.argmax(arr)\n",
        "arr[max_index] = 0\n",
        "print(arr)"
      ],
      "metadata": {
        "colab": {
          "base_uri": "https://localhost:8080/"
        },
        "id": "7rFSH72zPz4g",
        "outputId": "38b320ad-090a-4354-853a-1a47ba4db611"
      },
      "execution_count": null,
      "outputs": [
        {
          "output_type": "stream",
          "name": "stdout",
          "text": [
            "[1 3 0 2 5]\n"
          ]
        }
      ]
    },
    {
      "cell_type": "code",
      "source": [
        "#38.How do you create a structured array for (x, y) coordinate pairs?\n",
        "import numpy as np\n",
        "dtype=[('x',float),('y',float)]\n",
        "coords = np.array([(1, 2), (3, 4), (5, 6)], dtype=dtype)\n",
        "print(coords)\n",
        "print(coords['x'])\n",
        "print(coords['y'])"
      ],
      "metadata": {
        "colab": {
          "base_uri": "https://localhost:8080/"
        },
        "id": "WJdb7bEWQzXG",
        "outputId": "6f90c78e-032d-4df3-d31d-2433d1105c4d"
      },
      "execution_count": null,
      "outputs": [
        {
          "output_type": "stream",
          "name": "stdout",
          "text": [
            "[(1., 2.) (3., 4.) (5., 6.)]\n",
            "[1. 3. 5.]\n",
            "[2. 4. 6.]\n"
          ]
        }
      ]
    },
    {
      "cell_type": "code",
      "source": [
        "#39.How do you create a Cauchy matrix using two arrays?\n",
        "x = np.array([1, 2, 3])\n",
        "y = np.array([4, 5, 6])\n",
        "C = 1 / (x[:, None] - y[None, :])\n",
        "print(C)"
      ],
      "metadata": {
        "colab": {
          "base_uri": "https://localhost:8080/"
        },
        "id": "FLWH3N3QRzM-",
        "outputId": "7e12dc03-c483-4c44-8b57-712ec80164bd"
      },
      "execution_count": null,
      "outputs": [
        {
          "output_type": "stream",
          "name": "stdout",
          "text": [
            "[[-0.33333333 -0.25       -0.2       ]\n",
            " [-0.5        -0.33333333 -0.25      ]\n",
            " [-1.         -0.5        -0.33333333]]\n"
          ]
        }
      ]
    },
    {
      "cell_type": "code",
      "source": [
        "#40.How do you find the range of values for each NumPy scalar type?\n",
        "print(np.iinfo(np.int8))\n",
        "print(np.iinfo(np.int16))\n",
        "print(np.finfo(np.float32))\n",
        "print(np.finfo(np.float64))"
      ],
      "metadata": {
        "colab": {
          "base_uri": "https://localhost:8080/"
        },
        "id": "IigUXpIPSG9y",
        "outputId": "d64fa6f3-4184-4557-bcd3-c7bb7ba7ccea"
      },
      "execution_count": null,
      "outputs": [
        {
          "output_type": "stream",
          "name": "stdout",
          "text": [
            "Machine parameters for int8\n",
            "---------------------------------------------------------------\n",
            "min = -128\n",
            "max = 127\n",
            "---------------------------------------------------------------\n",
            "\n",
            "Machine parameters for int16\n",
            "---------------------------------------------------------------\n",
            "min = -32768\n",
            "max = 32767\n",
            "---------------------------------------------------------------\n",
            "\n",
            "Machine parameters for float32\n",
            "---------------------------------------------------------------\n",
            "precision =   6   resolution = 1.0000000e-06\n",
            "machep =    -23   eps =        1.1920929e-07\n",
            "negep =     -24   epsneg =     5.9604645e-08\n",
            "minexp =   -126   tiny =       1.1754944e-38\n",
            "maxexp =    128   max =        3.4028235e+38\n",
            "nexp =        8   min =        -max\n",
            "smallest_normal = 1.1754944e-38   smallest_subnormal = 1.4012985e-45\n",
            "---------------------------------------------------------------\n",
            "\n",
            "Machine parameters for float64\n",
            "---------------------------------------------------------------\n",
            "precision =  15   resolution = 1.0000000000000001e-15\n",
            "machep =    -52   eps =        2.2204460492503131e-16\n",
            "negep =     -53   epsneg =     1.1102230246251565e-16\n",
            "minexp =  -1022   tiny =       2.2250738585072014e-308\n",
            "maxexp =   1024   max =        1.7976931348623157e+308\n",
            "nexp =       11   min =        -max\n",
            "smallest_normal = 2.2250738585072014e-308   smallest_subnormal = 4.9406564584124654e-324\n",
            "---------------------------------------------------------------\n",
            "\n"
          ]
        }
      ]
    },
    {
      "cell_type": "code",
      "source": [
        "#41.How do you display all values in a large array?\n",
        "import numpy as np\n",
        "arr=np.arange(100)\n",
        "np.set_printoptions(threshold=np.inf)\n",
        "print(arr)"
      ],
      "metadata": {
        "colab": {
          "base_uri": "https://localhost:8080/"
        },
        "id": "6tEQhk-US80A",
        "outputId": "ed0e1eb1-2909-41ea-cadf-cb0229e5d91c"
      },
      "execution_count": null,
      "outputs": [
        {
          "output_type": "stream",
          "name": "stdout",
          "text": [
            "[ 0  1  2  3  4  5  6  7  8  9 10 11 12 13 14 15 16 17 18 19 20 21 22 23\n",
            " 24 25 26 27 28 29 30 31 32 33 34 35 36 37 38 39 40 41 42 43 44 45 46 47\n",
            " 48 49 50 51 52 53 54 55 56 57 58 59 60 61 62 63 64 65 66 67 68 69 70 71\n",
            " 72 73 74 75 76 77 78 79 80 81 82 83 84 85 86 87 88 89 90 91 92 93 94 95\n",
            " 96 97 98 99]\n"
          ]
        }
      ]
    },
    {
      "cell_type": "code",
      "source": [
        "#42.How do you find the closest value to a given scalar in an array?\n",
        "arr = np.array([1, 3, 5, 7, 9])\n",
        "val = 6\n",
        "idx = (np.abs(arr - val)).argmin()\n",
        "closest = arr[idx]\n",
        "print(\"Closest value to\", val, \"is\", closest)\n"
      ],
      "metadata": {
        "colab": {
          "base_uri": "https://localhost:8080/"
        },
        "id": "BlqNatVXVTiN",
        "outputId": "6e5a4a1e-4030-49bf-8e23-cd93bfd6b091"
      },
      "execution_count": null,
      "outputs": [
        {
          "output_type": "stream",
          "name": "stdout",
          "text": [
            "Closest value to 6 is 5\n"
          ]
        }
      ]
    },
    {
      "cell_type": "code",
      "source": [
        "#43.How do you create a structured array with position and color fields?\n",
        "import numpy as np\n",
        "dtype = [('position', float, 2), ('color', 'U10')]\n",
        "data = np.array([((1.0, 2.0), 'red'),\n",
        "                 ((3.0, 4.0), 'blue'),\n",
        "                 ((5.0, 6.0), 'green')], dtype=dtype)\n",
        "print(data)\n",
        "print(data['position'])\n",
        "print(data['color'])"
      ],
      "metadata": {
        "colab": {
          "base_uri": "https://localhost:8080/"
        },
        "id": "Sxp8kNepVmG5",
        "outputId": "089c0383-6780-4613-f8d2-842a1125bf7d"
      },
      "execution_count": null,
      "outputs": [
        {
          "output_type": "stream",
          "name": "stdout",
          "text": [
            "[([1., 2.], 'red') ([3., 4.], 'blue') ([5., 6.], 'green')]\n",
            "[[1. 2.]\n",
            " [3. 4.]\n",
            " [5. 6.]]\n",
            "['red' 'blue' 'green']\n"
          ]
        }
      ]
    },
    {
      "cell_type": "code",
      "source": [
        "#44.How do you compute pairwise distances between coordinates?\n",
        "coords = np.array([[1, 2], [3, 4], [5, 6]])\n",
        "diff = coords[:, np.newaxis, :] - coords[np.newaxis, :, :]\n",
        "distances = np.sqrt(np.sum(diff**2, axis=-1))\n",
        "print(distances)"
      ],
      "metadata": {
        "colab": {
          "base_uri": "https://localhost:8080/"
        },
        "id": "60tbYlAuWHfZ",
        "outputId": "dbe3a907-417b-42ff-c591-019e6942f5c7"
      },
      "execution_count": null,
      "outputs": [
        {
          "output_type": "stream",
          "name": "stdout",
          "text": [
            "[[0.         2.82842712 5.65685425]\n",
            " [2.82842712 0.         2.82842712]\n",
            " [5.65685425 2.82842712 0.        ]]\n"
          ]
        }
      ]
    },
    {
      "cell_type": "code",
      "source": [
        "#45.How do you cast a float array to integer type in place?\n",
        "import numpy as np\n",
        "arr = np.array([1.2, 2.8, 3.5], dtype=float)\n",
        "arr = arr.astype(int, copy=False)\n",
        "print(arr)\n",
        "print(arr.dtype)"
      ],
      "metadata": {
        "colab": {
          "base_uri": "https://localhost:8080/"
        },
        "id": "U5UDhT1mXDSs",
        "outputId": "4d17cfad-35d9-4bb6-8c3a-2ae7511eed8b"
      },
      "execution_count": null,
      "outputs": [
        {
          "output_type": "stream",
          "name": "stdout",
          "text": [
            "[1 2 3]\n",
            "int64\n"
          ]
        }
      ]
    },
    {
      "cell_type": "code",
      "metadata": {
        "colab": {
          "base_uri": "https://localhost:8080/"
        },
        "id": "129d69fe",
        "outputId": "44538b5f-d8a8-4d7d-b641-7a64719e08d5"
      },
      "source": [
        "#46.How do you read data from a file with missing values?\n",
        "import numpy as np\n",
        "\n",
        "csv_data = \"\"\"1,2,3\n",
        "4,,6\n",
        "7,8,9\"\"\"\n",
        "with open('data_with_missing.csv', 'w') as f:\n",
        "    f.write(csv_data)\n",
        "data = np.genfromtxt('data_with_missing.csv', delimiter=',', filling_values=np.nan)\n",
        "print(data)"
      ],
      "execution_count": null,
      "outputs": [
        {
          "output_type": "stream",
          "name": "stdout",
          "text": [
            "[[ 1.  2.  3.]\n",
            " [ 4. nan  6.]\n",
            " [ 7.  8.  9.]]\n"
          ]
        }
      ]
    },
    {
      "cell_type": "code",
      "source": [
        "#47.How do you iterate through all elements in a NumPy array with indices?\n",
        "import numpy as np\n",
        "arr = np.array([[10, 20, 30],\n",
        "                [40, 50, 60]])\n",
        "for index, value in np.ndenumerate(arr):\n",
        "    print(f\"Index: {index}, Value: {value}\")"
      ],
      "metadata": {
        "colab": {
          "base_uri": "https://localhost:8080/"
        },
        "id": "b42kMcTfsvQH",
        "outputId": "79c06cf5-5fec-48a6-cb1e-26f5f050078e"
      },
      "execution_count": null,
      "outputs": [
        {
          "output_type": "stream",
          "name": "stdout",
          "text": [
            "Index: (0, 0), Value: 10\n",
            "Index: (0, 1), Value: 20\n",
            "Index: (0, 2), Value: 30\n",
            "Index: (1, 0), Value: 40\n",
            "Index: (1, 1), Value: 50\n",
            "Index: (1, 2), Value: 60\n"
          ]
        }
      ]
    },
    {
      "cell_type": "code",
      "source": [
        "#48.How do you create a 2D Gaussian-like array?\n",
        "import numpy as np\n",
        "x, y = np.meshgrid(np.linspace(-1, 1, 10), np.linspace(-1, 1, 10))\n",
        "sigma = 0.5\n",
        "gaussian = np.exp(-(x**2 + y**2) / (2 * sigma**2))\n",
        "print(gaussian)"
      ],
      "metadata": {
        "colab": {
          "base_uri": "https://localhost:8080/"
        },
        "id": "VPnG7Q_ks8U_",
        "outputId": "605991ee-d6c2-4efd-98ce-efca722628c4"
      },
      "execution_count": null,
      "outputs": [
        {
          "output_type": "stream",
          "name": "stdout",
          "text": [
            "[[0.01831564 0.0403616  0.07300087 0.10836802 0.13203459 0.13203459\n",
            "  0.10836802 0.07300087 0.0403616  0.01831564]\n",
            " [0.0403616  0.08894358 0.16086971 0.2388072  0.29096046 0.29096046\n",
            "  0.2388072  0.16086971 0.08894358 0.0403616 ]\n",
            " [0.07300087 0.16086971 0.29096046 0.43192377 0.52625189 0.52625189\n",
            "  0.43192377 0.29096046 0.16086971 0.07300087]\n",
            " [0.10836802 0.2388072  0.43192377 0.64118039 0.7812082  0.7812082\n",
            "  0.64118039 0.43192377 0.2388072  0.10836802]\n",
            " [0.13203459 0.29096046 0.52625189 0.7812082  0.95181678 0.95181678\n",
            "  0.7812082  0.52625189 0.29096046 0.13203459]\n",
            " [0.13203459 0.29096046 0.52625189 0.7812082  0.95181678 0.95181678\n",
            "  0.7812082  0.52625189 0.29096046 0.13203459]\n",
            " [0.10836802 0.2388072  0.43192377 0.64118039 0.7812082  0.7812082\n",
            "  0.64118039 0.43192377 0.2388072  0.10836802]\n",
            " [0.07300087 0.16086971 0.29096046 0.43192377 0.52625189 0.52625189\n",
            "  0.43192377 0.29096046 0.16086971 0.07300087]\n",
            " [0.0403616  0.08894358 0.16086971 0.2388072  0.29096046 0.29096046\n",
            "  0.2388072  0.16086971 0.08894358 0.0403616 ]\n",
            " [0.01831564 0.0403616  0.07300087 0.10836802 0.13203459 0.13203459\n",
            "  0.10836802 0.07300087 0.0403616  0.01831564]]\n"
          ]
        }
      ]
    },
    {
      "cell_type": "code",
      "source": [
        "#49.How do you randomly place a specific number of elements in a 2D array?\n",
        "import numpy as np\n",
        "arr = np.zeros((5, 5))\n",
        "num_elements = 5\n",
        "values = np.arange(1, num_elements + 1)\n",
        "indices = np.random.choice(arr.size, num_elements, replace=False)\n",
        "np.put(arr, indices, values)\n",
        "print(arr)"
      ],
      "metadata": {
        "colab": {
          "base_uri": "https://localhost:8080/"
        },
        "id": "dxcIlhfgthZK",
        "outputId": "a4e1a814-f4da-45e9-9f4d-3c25e4e68636"
      },
      "execution_count": null,
      "outputs": [
        {
          "output_type": "stream",
          "name": "stdout",
          "text": [
            "[[0. 5. 0. 0. 0.]\n",
            " [0. 4. 3. 0. 0.]\n",
            " [0. 0. 0. 0. 0.]\n",
            " [0. 0. 0. 1. 2.]\n",
            " [0. 0. 0. 0. 0.]]\n"
          ]
        }
      ]
    },
    {
      "cell_type": "code",
      "source": [
        "#50.How do you subtract the row mean from a matrix?\n",
        "import numpy as np\n",
        "arr = np.zeros((5, 5), dtype=int)\n",
        "n = 5\n",
        "indices = np.random.choice(arr.size, n, replace=False)\n",
        "arr.flat[indices] = 1\n",
        "print(arr)"
      ],
      "metadata": {
        "colab": {
          "base_uri": "https://localhost:8080/"
        },
        "id": "RfYYbQ0wt3WO",
        "outputId": "36c62538-cbf9-4859-c82f-87e71be496a6"
      },
      "execution_count": null,
      "outputs": [
        {
          "output_type": "stream",
          "name": "stdout",
          "text": [
            "[[0 1 0 0 0]\n",
            " [0 1 0 1 0]\n",
            " [0 0 0 0 0]\n",
            " [0 0 0 0 0]\n",
            " [0 0 1 0 1]]\n"
          ]
        }
      ]
    },
    {
      "cell_type": "markdown",
      "source": [
        "Intermediate"
      ],
      "metadata": {
        "id": "FpwadI13wPYi"
      }
    },
    {
      "cell_type": "code",
      "source": [
        "#51.How do you sort a 2D array based on the values of one column?\n",
        "import numpy as np\n",
        "arr = np.array([[1, 9, 3],\n",
        "                [4, 2, 6],\n",
        "                [7, 5, 0]])\n",
        "sorted_arr = arr[arr[:, 1].argsort()]\n",
        "print(sorted_arr)\n"
      ],
      "metadata": {
        "colab": {
          "base_uri": "https://localhost:8080/"
        },
        "id": "wBOGiRMkwQFE",
        "outputId": "722086da-b779-447a-f101-0670df508c42"
      },
      "execution_count": null,
      "outputs": [
        {
          "output_type": "stream",
          "name": "stdout",
          "text": [
            "[[4 2 6]\n",
            " [7 5 0]\n",
            " [1 9 3]]\n"
          ]
        }
      ]
    },
    {
      "cell_type": "code",
      "source": [
        "#52.How do you check if a 2D array contains any null (zero-only) columns?\n",
        "arr = np.array([[0, 1, 0],\n",
        "                [0, 2, 0],\n",
        "                [0, 3, 0]])\n",
        "zero_cols = np.all(arr == 0, axis=0)\n",
        "print(\"Zero-only columns:\", zero_cols)\n",
        "print(\"Contains any zero-only column:\", np.any(zero_cols))"
      ],
      "metadata": {
        "colab": {
          "base_uri": "https://localhost:8080/"
        },
        "id": "r5HAMwXLwmM6",
        "outputId": "a01d5a1f-dddf-4d89-d333-a1a3735b44eb"
      },
      "execution_count": null,
      "outputs": [
        {
          "output_type": "stream",
          "name": "stdout",
          "text": [
            "Zero-only columns: [ True False  True]\n",
            "Contains any zero-only column: True\n"
          ]
        }
      ]
    },
    {
      "cell_type": "code",
      "source": [
        "#53.How do you find the nearest value to a given number in a NumPy array?\n",
        "arr = np.array([2.5, 7.1, 4.8, 9.6])\n",
        "value = 5.0\n",
        "nearest = arr[np.abs(arr - value).argmin()]\n",
        "print(\"Nearest value to\", value, \"is\", nearest)"
      ],
      "metadata": {
        "colab": {
          "base_uri": "https://localhost:8080/"
        },
        "id": "pJMg2DgYwxaB",
        "outputId": "baaf3004-0d61-4c5e-c663-21397f988fdc"
      },
      "execution_count": null,
      "outputs": [
        {
          "output_type": "stream",
          "name": "stdout",
          "text": [
            "Nearest value to 5.0 is 4.8\n"
          ]
        }
      ]
    },
    {
      "cell_type": "code",
      "source": [
        "#54.How do you create a NumPy subclass with custom attributes?\n",
        "class NamedArray(np.ndarray):\n",
        "    def __new__(cls, input_array, name=\"NoName\"):\n",
        "        obj = np.asarray(input_array).view(cls)\n",
        "        obj.name = name\n",
        "        return obj\n",
        "\n",
        "    def __array_finalize__(self, obj):\n",
        "        if obj is None: return\n",
        "        self.name = getattr(obj, 'name', \"NoName\")\n",
        "arr = NamedArray(np.arange(5), name=\"MyArray\")\n",
        "print(arr)\n",
        "print(arr.name)"
      ],
      "metadata": {
        "colab": {
          "base_uri": "https://localhost:8080/"
        },
        "id": "sEG0ICtJxToO",
        "outputId": "c286d89f-9ee5-43e4-9369-6931835a816b"
      },
      "execution_count": null,
      "outputs": [
        {
          "output_type": "stream",
          "name": "stdout",
          "text": [
            "[0 1 2 3 4]\n",
            "MyArray\n"
          ]
        }
      ]
    },
    {
      "cell_type": "code",
      "source": [
        "#55.How do you increment elements in an array using an index array with repeats?\n",
        "import numpy as np\n",
        "arr = np.zeros(5, dtype=int)\n",
        "indices = np.array([0, 1, 2, 1, 1])\n",
        "values = np.array([1, 2, 3, 4, 5])\n",
        "np.add.at(arr, indices, values)\n",
        "print(arr)"
      ],
      "metadata": {
        "colab": {
          "base_uri": "https://localhost:8080/"
        },
        "id": "ZmcTTx99xgdr",
        "outputId": "fba51a38-a3d6-488a-b155-577f061ce59e"
      },
      "execution_count": null,
      "outputs": [
        {
          "output_type": "stream",
          "name": "stdout",
          "text": [
            "[ 1 11  3  0  0]\n"
          ]
        }
      ]
    },
    {
      "cell_type": "code",
      "source": [
        "#56.How do you accumulate values into an array based on indices?\n",
        "values = np.array([1, 2, 3, 4, 5])\n",
        "indices = np.array([0, 1, 0, 1, 1])\n",
        "accum = np.bincount(indices, weights=values)\n",
        "print(accum)"
      ],
      "metadata": {
        "colab": {
          "base_uri": "https://localhost:8080/"
        },
        "id": "NzivOIsGxwuQ",
        "outputId": "9bcd0f31-da38-4fa5-a59f-1e8471b03260"
      },
      "execution_count": null,
      "outputs": [
        {
          "output_type": "stream",
          "name": "stdout",
          "text": [
            "[ 4. 11.]\n"
          ]
        }
      ]
    },
    {
      "cell_type": "code",
      "source": [
        "#57.How do you count unique colors in a 3D image array?\n",
        "img = np.random.randint(0, 256, (3, 3, 3), dtype=np.uint8)\n",
        "pixels = img.reshape(-1, 3)\n",
        "unique_colors = np.unique(pixels, axis=0)\n",
        "print(\"Number of unique colors:\", len(unique_colors))"
      ],
      "metadata": {
        "colab": {
          "base_uri": "https://localhost:8080/"
        },
        "id": "bV-2u5UCx3Pn",
        "outputId": "2d04eb50-ed14-446d-e012-6b7fff18b521"
      },
      "execution_count": null,
      "outputs": [
        {
          "output_type": "stream",
          "name": "stdout",
          "text": [
            "Number of unique colors: 9\n"
          ]
        }
      ]
    },
    {
      "cell_type": "code",
      "source": [
        "#58.How do you compute the sum across the last two axes of a 4D array?\n",
        "arr = np.random.rand(2, 3, 4, 5)\n",
        "result = arr.sum(axis=(-2, -1))\n",
        "print(result.shape)"
      ],
      "metadata": {
        "colab": {
          "base_uri": "https://localhost:8080/"
        },
        "id": "ExnKCUYGyGsB",
        "outputId": "5e65ab45-7635-41b8-9578-cdca9343f89c"
      },
      "execution_count": null,
      "outputs": [
        {
          "output_type": "stream",
          "name": "stdout",
          "text": [
            "(2, 3)\n"
          ]
        }
      ]
    },
    {
      "cell_type": "code",
      "source": [
        "#59.How do you calculate means of grouped values in an array?\n",
        "values = np.array([10, 20, 30, 40, 50])\n",
        "groups = np.array([0, 1, 0, 1, 1])\n",
        "sum_per_group = np.bincount(groups, weights=values)\n",
        "count_per_group = np.bincount(groups)\n",
        "mean_per_group = sum_per_group / count_per_group\n",
        "print(mean_per_group)"
      ],
      "metadata": {
        "colab": {
          "base_uri": "https://localhost:8080/"
        },
        "id": "1Qhvp3ScyObp",
        "outputId": "a1fa8076-b98e-4da0-de84-e306cd2d1ee9"
      },
      "execution_count": null,
      "outputs": [
        {
          "output_type": "stream",
          "name": "stdout",
          "text": [
            "[20.         36.66666667]\n"
          ]
        }
      ]
    },
    {
      "cell_type": "code",
      "source": [
        "#60.How do you efficiently get the diagonal of a matrix dot product?\n",
        "A = np.random.rand(3, 5)\n",
        "B = np.random.rand(3, 5)\n",
        "diag = np.einsum('ij,ij->i', A, B)\n",
        "print(diag)"
      ],
      "metadata": {
        "colab": {
          "base_uri": "https://localhost:8080/"
        },
        "id": "A7g104YKyXek",
        "outputId": "100c75ec-45f3-4777-f892-3f87125f53b2"
      },
      "execution_count": null,
      "outputs": [
        {
          "output_type": "stream",
          "name": "stdout",
          "text": [
            "[0.29299305 1.62095065 1.27469153]\n"
          ]
        }
      ]
    },
    {
      "cell_type": "code",
      "source": [
        "#61.How do you interleave a vector with a fixed number of zeros?\n",
        "import numpy as np\n",
        "v = np.array([1, 2, 3])\n",
        "n_zeros = 2\n",
        "out = np.zeros(len(v) + (len(v) - 1) * n_zeros, dtype=v.dtype)\n",
        "out[::n_zeros + 1] = v\n",
        "print(out)"
      ],
      "metadata": {
        "colab": {
          "base_uri": "https://localhost:8080/"
        },
        "id": "tqH_NpnzykLR",
        "outputId": "d3ef81d2-4933-4059-e5dc-c4aa506d9f4c"
      },
      "execution_count": null,
      "outputs": [
        {
          "output_type": "stream",
          "name": "stdout",
          "text": [
            "[1 0 0 2 0 0 3]\n"
          ]
        }
      ]
    },
    {
      "cell_type": "code",
      "source": [
        "#62.How do you multiply a (5,5,3) array with a (5,5) array element-wise?\n",
        "a = np.random.rand(5, 5, 3)\n",
        "b = np.random.rand(5, 5)\n",
        "result = a * b[:, :, None]\n",
        "print(result.shape)"
      ],
      "metadata": {
        "colab": {
          "base_uri": "https://localhost:8080/"
        },
        "id": "XSy8ytHiy39B",
        "outputId": "d24b488f-9c2a-425d-e537-ef34fdc45652"
      },
      "execution_count": null,
      "outputs": [
        {
          "output_type": "stream",
          "name": "stdout",
          "text": [
            "(5, 5, 3)\n"
          ]
        }
      ]
    },
    {
      "cell_type": "code",
      "source": [
        "#63.How do you swap two rows in a matrix?\n",
        "arr = np.arange(9).reshape(3, 3)\n",
        "print(\"Before:\\n\", arr)\n",
        "arr[[0, 2]] = arr[[2, 0]]\n",
        "print(\"After:\\n\", arr)\n"
      ],
      "metadata": {
        "colab": {
          "base_uri": "https://localhost:8080/"
        },
        "id": "nCa_B1WSzA64",
        "outputId": "168e6939-c422-4952-bf28-e093f0e763f5"
      },
      "execution_count": null,
      "outputs": [
        {
          "output_type": "stream",
          "name": "stdout",
          "text": [
            "Before:\n",
            " [[0 1 2]\n",
            " [3 4 5]\n",
            " [6 7 8]]\n",
            "After:\n",
            " [[6 7 8]\n",
            " [3 4 5]\n",
            " [0 1 2]]\n"
          ]
        }
      ]
    },
    {
      "cell_type": "code",
      "source": [
        "#64.How do you extract unique line segments from triangle definitions?\n",
        "triangles = np.array([\n",
        "    [0, 1, 2],\n",
        "    [2, 3, 0]\n",
        "])\n",
        "edges = np.concatenate([\n",
        "    triangles[:, [0, 1]],\n",
        "    triangles[:, [1, 2]],\n",
        "    triangles[:, [2, 0]]\n",
        "])\n",
        "edges = np.sort(edges, axis=1)\n",
        "unique_edges = np.unique(edges, axis=0)\n",
        "print(unique_edges)"
      ],
      "metadata": {
        "colab": {
          "base_uri": "https://localhost:8080/"
        },
        "id": "OBpWXmHOzKOp",
        "outputId": "d13fb51c-dce0-429d-b8ce-057f7574c87e"
      },
      "execution_count": null,
      "outputs": [
        {
          "output_type": "stream",
          "name": "stdout",
          "text": [
            "[[0 1]\n",
            " [0 2]\n",
            " [0 3]\n",
            " [1 2]\n",
            " [2 3]]\n"
          ]
        }
      ]
    },
    {
      "cell_type": "code",
      "source": [
        "#65.How do you recreate an array from a bincount?\n",
        "counts = np.array([2, 0, 3, 1])\n",
        "reconstructed = np.repeat(np.arange(len(counts)), counts)\n",
        "print(reconstructed)"
      ],
      "metadata": {
        "colab": {
          "base_uri": "https://localhost:8080/"
        },
        "id": "noISyeo4zdLx",
        "outputId": "2efadb40-3e7b-4ecb-d628-5790b7acb6b0"
      },
      "execution_count": null,
      "outputs": [
        {
          "output_type": "stream",
          "name": "stdout",
          "text": [
            "[0 0 2 2 2 3]\n"
          ]
        }
      ]
    },
    {
      "cell_type": "code",
      "source": [
        "#66.How do you compute a moving average using a sliding window?\n",
        "import numpy as np\n",
        "a = np.arange(10)\n",
        "window_size = 3\n",
        "moving_avg = np.convolve(a, np.ones(window_size)/window_size, mode='valid')\n",
        "print(moving_avg)"
      ],
      "metadata": {
        "colab": {
          "base_uri": "https://localhost:8080/"
        },
        "id": "qvj_5ZcAznUm",
        "outputId": "55d3804b-9111-40a6-f4be-c34dd5bb09e9"
      },
      "execution_count": null,
      "outputs": [
        {
          "output_type": "stream",
          "name": "stdout",
          "text": [
            "[1. 2. 3. 4. 5. 6. 7. 8.]\n"
          ]
        }
      ]
    },
    {
      "cell_type": "code",
      "source": [
        "#67.How do you create a rolling 2D view from a 1D array?\n",
        "from numpy.lib.stride_tricks import sliding_window_view\n",
        "a = np.arange(10)\n",
        "window = 3\n",
        "view = sliding_window_view(a, window_shape=window)\n",
        "print(view)"
      ],
      "metadata": {
        "colab": {
          "base_uri": "https://localhost:8080/"
        },
        "id": "n_qCy5m3z0SW",
        "outputId": "f7cbf726-5c5e-451e-de5d-b990526a3a5e"
      },
      "execution_count": null,
      "outputs": [
        {
          "output_type": "stream",
          "name": "stdout",
          "text": [
            "[[0 1 2]\n",
            " [1 2 3]\n",
            " [2 3 4]\n",
            " [3 4 5]\n",
            " [4 5 6]\n",
            " [5 6 7]\n",
            " [6 7 8]\n",
            " [7 8 9]]\n"
          ]
        }
      ]
    },
    {
      "cell_type": "code",
      "source": [
        "#68.How do you invert booleans or negate floats in-place?\n",
        "a = np.array([True, False, True])\n",
        "np.logical_not(a, out=a)   # in-place\n",
        "print(a)"
      ],
      "metadata": {
        "colab": {
          "base_uri": "https://localhost:8080/"
        },
        "id": "nrul1AW6z6Ux",
        "outputId": "bbea235d-dd25-4985-ab0b-c75c311a37eb"
      },
      "execution_count": null,
      "outputs": [
        {
          "output_type": "stream",
          "name": "stdout",
          "text": [
            "[False  True False]\n"
          ]
        }
      ]
    },
    {
      "cell_type": "code",
      "source": [
        "#69.How do you compute the distance from a point to multiple lines?\n",
        "p0 = np.array([0, 0])\n",
        "p1 = np.array([[1, 0], [0, 2]])\n",
        "p2 = np.array([[1, 1], [2, 2]])\n",
        "line_vec = p2 - p1\n",
        "point_vec = p1 - p0\n",
        "cross = np.abs(line_vec[:,0]*point_vec[:,1] - line_vec[:,1]*point_vec[:,0])\n",
        "dist = cross / np.linalg.norm(line_vec, axis=1)\n",
        "print(dist)"
      ],
      "metadata": {
        "colab": {
          "base_uri": "https://localhost:8080/"
        },
        "id": "sT2LwOg-0AT0",
        "outputId": "be72bb10-64ef-42fd-849b-9ac6b0bbb1b6"
      },
      "execution_count": null,
      "outputs": [
        {
          "output_type": "stream",
          "name": "stdout",
          "text": [
            "[1. 2.]\n"
          ]
        }
      ]
    },
    {
      "cell_type": "code",
      "source": [
        "#70.How do you compute the distances from multiple points to multiple lines?\n",
        "import numpy as np\n",
        "p0 = np.array([[0, 0], [1, 1], [2, 1]])\n",
        "p1 = np.array([[0, 1], [2, 2]])\n",
        "p2 = np.array([[1, 2], [2, 3]])\n",
        "v = p2 - p1\n",
        "w = p1[None, :, :] - p0[:, None, :]\n",
        "cross = np.abs(v[None,:,0]*w[:,:,1] - v[None,:,1]*w[:,:,0])\n",
        "dist = cross / np.linalg.norm(v, axis=1)\n",
        "print(dist)"
      ],
      "metadata": {
        "colab": {
          "base_uri": "https://localhost:8080/"
        },
        "id": "qB6ddFog0O0w",
        "outputId": "24959154-5e86-4b7e-a02b-722ac8b462a6"
      },
      "execution_count": null,
      "outputs": [
        {
          "output_type": "stream",
          "name": "stdout",
          "text": [
            "[[0.70710678 2.        ]\n",
            " [0.70710678 1.        ]\n",
            " [1.41421356 0.        ]]\n"
          ]
        }
      ]
    },
    {
      "cell_type": "code",
      "source": [
        "#71.How do you extract a fixed-shaped subarray centered on a given point?\n",
        "a = np.arange(100).reshape(10, 10)\n",
        "center = (5, 5)\n",
        "size = 3\n",
        "r = size // 2\n",
        "sub = a[max(center[0]-r, 0): center[0]+r+1,\n",
        "         max(center[1]-r, 0): center[1]+r+1]\n",
        "print(sub)"
      ],
      "metadata": {
        "colab": {
          "base_uri": "https://localhost:8080/"
        },
        "id": "qhzOq6wW1I-g",
        "outputId": "8b410cd8-67d6-416f-e2a8-a8faf1b8f006"
      },
      "execution_count": null,
      "outputs": [
        {
          "output_type": "stream",
          "name": "stdout",
          "text": [
            "[[44 45 46]\n",
            " [54 55 56]\n",
            " [64 65 66]]\n"
          ]
        }
      ]
    },
    {
      "cell_type": "code",
      "source": [
        "#72.How do you generate overlapping subarrays from a vector?\n",
        "from numpy.lib.stride_tricks import sliding_window_view\n",
        "a = np.arange(6)\n",
        "window = 3\n",
        "windows = sliding_window_view(a, window)\n",
        "print(windows)"
      ],
      "metadata": {
        "colab": {
          "base_uri": "https://localhost:8080/"
        },
        "id": "cYT_qVVj1ZMk",
        "outputId": "d468d1c3-524a-4a2b-a969-8869b4dc4640"
      },
      "execution_count": null,
      "outputs": [
        {
          "output_type": "stream",
          "name": "stdout",
          "text": [
            "[[0 1 2]\n",
            " [1 2 3]\n",
            " [2 3 4]\n",
            " [3 4 5]]\n"
          ]
        }
      ]
    },
    {
      "cell_type": "code",
      "source": [
        "#73.How do you compute the rank of a matrix using SVD?\n",
        "A = np.array([[1, 2, 3],\n",
        "              [4, 5, 6],\n",
        "              [7, 8, 9]])\n",
        "\n",
        "U, s, Vt = np.linalg.svd(A)\n",
        "rank = np.sum(s > 1e-10)\n",
        "print(rank)"
      ],
      "metadata": {
        "colab": {
          "base_uri": "https://localhost:8080/"
        },
        "id": "qE-hYYvH1iLw",
        "outputId": "cba60e1f-3434-49c0-f25b-4db00c7e6a0b"
      },
      "execution_count": null,
      "outputs": [
        {
          "output_type": "stream",
          "name": "stdout",
          "text": [
            "2\n"
          ]
        }
      ]
    },
    {
      "cell_type": "code",
      "source": [
        "#74.How do you find the most frequent value in an array?\n",
        "a = np.array([1, 2, 2, 3, 3, 3, 4])\n",
        "values, counts = np.unique(a, return_counts=True)\n",
        "most_frequent = values[np.argmax(counts)]\n",
        "print(most_frequent)"
      ],
      "metadata": {
        "colab": {
          "base_uri": "https://localhost:8080/"
        },
        "id": "X01luTir1pzq",
        "outputId": "330d0140-f9d9-4327-a71c-61a006406923"
      },
      "execution_count": null,
      "outputs": [
        {
          "output_type": "stream",
          "name": "stdout",
          "text": [
            "3\n"
          ]
        }
      ]
    },
    {
      "cell_type": "code",
      "source": [
        "#75.How do you extract all 3x3 contiguous blocks from a 10x10 matrix?\n",
        "a = np.arange(100).reshape(10, 10)\n",
        "blocks = sliding_window_view(a, (3, 3))\n",
        "print(blocks.shape)\n",
        "print(blocks[0, 0])"
      ],
      "metadata": {
        "colab": {
          "base_uri": "https://localhost:8080/"
        },
        "id": "XYQy2g1m1xcQ",
        "outputId": "1f793d8f-9ed0-470a-dc6c-100982ce2274"
      },
      "execution_count": null,
      "outputs": [
        {
          "output_type": "stream",
          "name": "stdout",
          "text": [
            "(8, 8, 3, 3)\n",
            "[[ 0  1  2]\n",
            " [10 11 12]\n",
            " [20 21 22]]\n"
          ]
        }
      ]
    },
    {
      "cell_type": "code",
      "source": [
        "#76.How do you create a 2D symmetric matrix class?\n",
        "import numpy as np\n",
        "\n",
        "class SymmetricMatrix(np.ndarray):\n",
        "    def __new__(cls, input_array):\n",
        "        obj = np.asarray(input_array).view(cls)\n",
        "        if not np.allclose(obj, obj.T):\n",
        "            obj = (obj + obj.T) / 2\n",
        "        return obj\n",
        "\n",
        "    def __setitem__(self, index, value):\n",
        "        i, j = index\n",
        "        super(SymmetricMatrix, self).__setitem__((i, j), value)\n",
        "        super(SymmetricMatrix, self).__setitem__((j, i), value)\n",
        "\n",
        "A = SymmetricMatrix(np.array([[1, 2], [3, 4]]))\n",
        "print(A)\n",
        "A[0, 1] = 10\n",
        "print(A)\n"
      ],
      "metadata": {
        "colab": {
          "base_uri": "https://localhost:8080/"
        },
        "id": "2YQW9YFE2AI2",
        "outputId": "5b00254d-f339-4d7f-df96-edc6dfb11ba2"
      },
      "execution_count": null,
      "outputs": [
        {
          "output_type": "stream",
          "name": "stdout",
          "text": [
            "[[1.  2.5]\n",
            " [2.5 4. ]]\n",
            "[[ 1. 10.]\n",
            " [10.  4.]]\n"
          ]
        }
      ]
    },
    {
      "cell_type": "code",
      "source": [
        "#77.How do you compute the sum of multiple matrix-vector products at once?\n",
        "A = np.random.rand(3, 4, 4)\n",
        "x = np.random.rand(3, 4)\n",
        "result = np.einsum('ijk,ik->j', A, x)\n",
        "print(result.shape)"
      ],
      "metadata": {
        "colab": {
          "base_uri": "https://localhost:8080/"
        },
        "id": "ObwePYaJ2PeU",
        "outputId": "fca574e8-42e4-4d63-aa62-7fc94d43452a"
      },
      "execution_count": null,
      "outputs": [
        {
          "output_type": "stream",
          "name": "stdout",
          "text": [
            "(4,)\n"
          ]
        }
      ]
    },
    {
      "cell_type": "code",
      "source": [
        "#78.How do you compute the sum of blocks in a 2D array?\n",
        "A = np.arange(36).reshape(6, 6)\n",
        "block_size = 2\n",
        "result = A.reshape(6//block_size, block_size, 6//block_size, block_size).sum(axis=(1, 3))\n",
        "print(result)"
      ],
      "metadata": {
        "colab": {
          "base_uri": "https://localhost:8080/"
        },
        "id": "u7Bc110U2Yhf",
        "outputId": "9565206e-1b1d-4ec6-b6b4-917b6250d4a7"
      },
      "execution_count": null,
      "outputs": [
        {
          "output_type": "stream",
          "name": "stdout",
          "text": [
            "[[ 14  22  30]\n",
            " [ 62  70  78]\n",
            " [110 118 126]]\n"
          ]
        }
      ]
    },
    {
      "cell_type": "code",
      "source": [
        "#79.How do you simulate the Game of Life using NumPy?\n",
        "def game_of_life_step(X):\n",
        "    N = sum(np.roll(np.roll(X, i, 0), j, 1)\n",
        "            for i in (-1, 0, 1)\n",
        "            for j in (-1, 0, 1)\n",
        "            if (i != 0 or j != 0))\n",
        "X = np.random.randint(0, 2, (5, 5))\n",
        "print(\"Initial:\\n\", X)\n",
        "X_next = game_of_life_step(X)\n",
        "print(\"Next:\\n\", X_next)\n"
      ],
      "metadata": {
        "colab": {
          "base_uri": "https://localhost:8080/"
        },
        "id": "WTsX9ONu2hQC",
        "outputId": "047ff12a-2f51-407b-9fc1-7fcb075990d1"
      },
      "execution_count": null,
      "outputs": [
        {
          "output_type": "stream",
          "name": "stdout",
          "text": [
            "Initial:\n",
            " [[0 1 0 1 1]\n",
            " [0 1 0 1 0]\n",
            " [1 1 0 0 0]\n",
            " [1 0 0 0 1]\n",
            " [0 0 1 1 0]]\n",
            "Next:\n",
            " None\n"
          ]
        }
      ]
    },
    {
      "cell_type": "code",
      "source": [
        "#80.How do you extract the top N largest values from an array?\n",
        "a = np.array([1, 3, 7, 5, 9, 2])\n",
        "N = 3\n",
        "idx = np.argpartition(a, -N)[-N:]\n",
        "topN = a[idx]\n",
        "topN_sorted = np.sort(topN)[::-1]\n",
        "print(topN_sorted)\n"
      ],
      "metadata": {
        "colab": {
          "base_uri": "https://localhost:8080/"
        },
        "id": "zM2L368U2s-e",
        "outputId": "e0f20a00-82ea-4865-d166-155a2e2494dc"
      },
      "execution_count": null,
      "outputs": [
        {
          "output_type": "stream",
          "name": "stdout",
          "text": [
            "[9 7 5]\n"
          ]
        }
      ]
    },
    {
      "cell_type": "code",
      "source": [
        "#81.How do you create a Cartesian product of multiple input arrays?\n",
        "import numpy as np\n",
        "a = np.array([1, 2])\n",
        "b = np.array([3, 4])\n",
        "c = np.array([5, 6])\n",
        "grid = np.array(np.meshgrid(a, b, c)).T.reshape(-1, 3)\n",
        "print(grid)"
      ],
      "metadata": {
        "colab": {
          "base_uri": "https://localhost:8080/"
        },
        "id": "LIGdJ3YX28lL",
        "outputId": "14a355c0-6373-4268-d083-309f92e2e519"
      },
      "execution_count": null,
      "outputs": [
        {
          "output_type": "stream",
          "name": "stdout",
          "text": [
            "[[1 3 5]\n",
            " [1 4 5]\n",
            " [2 3 5]\n",
            " [2 4 5]\n",
            " [1 3 6]\n",
            " [1 4 6]\n",
            " [2 3 6]\n",
            " [2 4 6]]\n"
          ]
        }
      ]
    },
    {
      "cell_type": "code",
      "source": [
        "#82.How do you create a record array from a regular NumPy array?\n",
        "arr = np.array([[1, 2, 3],\n",
        "                [4, 5, 6]])\n",
        "r = np.core.records.fromarrays(arr.T, names='a,b,c')\n",
        "\n",
        "print(r.a, r.b, r.c)"
      ],
      "metadata": {
        "colab": {
          "base_uri": "https://localhost:8080/"
        },
        "id": "VUC8NBJf3V0k",
        "outputId": "6cb95ff2-66a1-4912-bf76-33ebab7f30e2"
      },
      "execution_count": null,
      "outputs": [
        {
          "output_type": "stream",
          "name": "stdout",
          "text": [
            "[1 4] [2 5] [3 6]\n"
          ]
        },
        {
          "output_type": "stream",
          "name": "stderr",
          "text": [
            "/tmp/ipython-input-1252968701.py:4: DeprecationWarning: numpy.core is deprecated and has been renamed to numpy._core. The numpy._core namespace contains private NumPy internals and its use is discouraged, as NumPy internals can change without warning in any release. In practice, most real-world usage of numpy.core is to access functionality in the public NumPy API. If that is the case, use the public NumPy API. If not, you are using NumPy internals. If you would still like to access an internal attribute, use numpy._core.records.\n",
            "  r = np.core.records.fromarrays(arr.T, names='a,b,c')\n"
          ]
        }
      ]
    },
    {
      "cell_type": "code",
      "source": [
        "#83.How do you raise an array to the power of 3 using different methods?\n",
        "x = np.arange(5)\n",
        "print(x ** 3)"
      ],
      "metadata": {
        "colab": {
          "base_uri": "https://localhost:8080/"
        },
        "id": "2WmNYLHO3dxj",
        "outputId": "0d88de4b-1fd4-4a3f-d4c6-2efc23d6896c"
      },
      "execution_count": null,
      "outputs": [
        {
          "output_type": "stream",
          "name": "stdout",
          "text": [
            "[ 0  1  8 27 64]\n"
          ]
        }
      ]
    },
    {
      "cell_type": "code",
      "source": [
        "#84.How do you find rows in a matrix containing all elements of another matrix?\n",
        "import numpy as np\n",
        "matrix = np.array([[1, 2, 3, 4],\n",
        "                   [5, 6, 7, 8],\n",
        "                   [9, 1, 2, 3],\n",
        "                   [4, 5, 6, 7]])\n",
        "elements_to_find = np.array([[2, 3],\n",
        "                             [6, 7]])\n",
        "contains_all = np.all(np.isin(matrix, elements_to_find), axis=1)\n",
        "print(contains_all)"
      ],
      "metadata": {
        "colab": {
          "base_uri": "https://localhost:8080/"
        },
        "id": "3x6YqbTD3-dV",
        "outputId": "13e13700-0120-41ed-e95d-dd7e24a77e8f"
      },
      "execution_count": null,
      "outputs": [
        {
          "output_type": "stream",
          "name": "stdout",
          "text": [
            "[False False False False]\n"
          ]
        }
      ]
    },
    {
      "cell_type": "code",
      "source": [
        "#85.How do you filter rows in a matrix with at least one differing value?\n",
        "A = np.array([[1, 2, 3],\n",
        "              [4, 5, 6],\n",
        "              [1, 2, 3]])\n",
        "B = np.array([1, 2, 3])\n",
        "mask = np.any(A != B, axis=1)\n",
        "filtered = A[mask]\n",
        "print(filtered)"
      ],
      "metadata": {
        "colab": {
          "base_uri": "https://localhost:8080/"
        },
        "id": "F_YS9MPH4pxI",
        "outputId": "3b8f3be4-a0d7-4a83-90a6-457f33fdf646"
      },
      "execution_count": null,
      "outputs": [
        {
          "output_type": "stream",
          "name": "stdout",
          "text": [
            "[[4 5 6]]\n"
          ]
        }
      ]
    },
    {
      "cell_type": "code",
      "source": [
        "#86.How do you convert integers to their binary matrix representation?\n",
        "import numpy as np\n",
        "nums = np.array([0, 1, 2, 3, 4, 5, 6, 7], dtype=np.uint8)\n",
        "bits = np.unpackbits(nums[:, None], axis=1)\n",
        "print(bits)"
      ],
      "metadata": {
        "colab": {
          "base_uri": "https://localhost:8080/"
        },
        "id": "oK293ooG4y5e",
        "outputId": "81555fa1-f3a6-45d5-d841-b642f74b7c15"
      },
      "execution_count": null,
      "outputs": [
        {
          "output_type": "stream",
          "name": "stdout",
          "text": [
            "[[0 0 0 0 0 0 0 0]\n",
            " [0 0 0 0 0 0 0 1]\n",
            " [0 0 0 0 0 0 1 0]\n",
            " [0 0 0 0 0 0 1 1]\n",
            " [0 0 0 0 0 1 0 0]\n",
            " [0 0 0 0 0 1 0 1]\n",
            " [0 0 0 0 0 1 1 0]\n",
            " [0 0 0 0 0 1 1 1]]\n"
          ]
        }
      ]
    },
    {
      "cell_type": "code",
      "source": [
        "#87.How do you extract unique rows from a 2D array?\n",
        "A = np.array([[1, 2, 3],\n",
        "              [3, 2, 1],\n",
        "              [1, 2, 3]])\n",
        "unique_rows = np.unique(A, axis=0)\n",
        "print(unique_rows)"
      ],
      "metadata": {
        "colab": {
          "base_uri": "https://localhost:8080/"
        },
        "id": "Cochndi15Hzk",
        "outputId": "f025557f-3bab-48bb-8ce7-02d0b3addac2"
      },
      "execution_count": null,
      "outputs": [
        {
          "output_type": "stream",
          "name": "stdout",
          "text": [
            "[[1 2 3]\n",
            " [3 2 1]]\n"
          ]
        }
      ]
    },
    {
      "cell_type": "code",
      "source": [
        "#88.How do you compute inner, outer, sum, and multiplication using einsum?\n",
        "x = np.arange(3)\n",
        "y = np.arange(3, 6)\n",
        "inner = np.einsum('i,i->', x, y)\n",
        "outer = np.einsum('i,j->ij', x, y)\n",
        "summed = np.einsum('i,i->i', x, y) + x\n",
        "product = np.einsum('i,i->i', x, y)\n",
        "print(inner, \"\\n\", outer, \"\\n\", product)\n"
      ],
      "metadata": {
        "colab": {
          "base_uri": "https://localhost:8080/"
        },
        "id": "0HzpAVa-5XGp",
        "outputId": "c43daaa9-8bd5-47e2-920b-93d901173a10"
      },
      "execution_count": null,
      "outputs": [
        {
          "output_type": "stream",
          "name": "stdout",
          "text": [
            "14 \n",
            " [[ 0  0  0]\n",
            " [ 3  4  5]\n",
            " [ 6  8 10]] \n",
            " [ 0  4 10]\n"
          ]
        }
      ]
    },
    {
      "cell_type": "code",
      "source": [
        "#89.How do you sample a 2D path at regular intervals?\n",
        "points = np.array([[0, 0], [1, 2], [4, 3], [7, 3]])\n",
        "dist = np.cumsum(np.sqrt(np.sum(np.diff(points, axis=0)**2, axis=1)))\n",
        "dist = np.insert(dist, 0, 0)\n",
        "intervals = np.linspace(0, dist[-1], 10)\n",
        "x = np.interp(intervals, dist, points[:, 0])\n",
        "y = np.interp(intervals, dist, points[:, 1])\n",
        "sampled = np.stack([x, y], axis=1)\n",
        "print(sampled)\n"
      ],
      "metadata": {
        "colab": {
          "base_uri": "https://localhost:8080/"
        },
        "id": "P_H1A_cK5lug",
        "outputId": "bbef25b1-7721-431c-fc75-47206b374331"
      },
      "execution_count": null,
      "outputs": [
        {
          "output_type": "stream",
          "name": "stdout",
          "text": [
            "[[0.         0.        ]\n",
            " [0.41731715 0.8346343 ]\n",
            " [0.8346343  1.6692686 ]\n",
            " [1.53446974 2.17815658]\n",
            " [2.4197331  2.47324437]\n",
            " [3.30499646 2.76833215]\n",
            " [4.20055145 3.        ]\n",
            " [5.13370097 3.        ]\n",
            " [6.06685048 3.        ]\n",
            " [7.         3.        ]]\n"
          ]
        }
      ]
    },
    {
      "cell_type": "code",
      "source": [
        "#90.How do you filter 2D array rows that sum to a specific number using only integers?\n",
        "A = np.array([[1, 2, 3],\n",
        "              [3, 3, 3],\n",
        "              [2, 2, 4],\n",
        "              [0, 5, 1]])\n",
        "target = 6\n",
        "filtered = A[np.sum(A, axis=1) == target]\n",
        "print(filtered)"
      ],
      "metadata": {
        "colab": {
          "base_uri": "https://localhost:8080/"
        },
        "id": "pJUxbEZ-53cH",
        "outputId": "a18f1701-0712-4167-c04b-6c4d03238e3a"
      },
      "execution_count": null,
      "outputs": [
        {
          "output_type": "stream",
          "name": "stdout",
          "text": [
            "[[1 2 3]\n",
            " [0 5 1]]\n"
          ]
        }
      ]
    },
    {
      "cell_type": "markdown",
      "source": [
        "Additional Practice (Bonus: 91–110)"
      ],
      "metadata": {
        "id": "L8sYnDdS6J2D"
      }
    },
    {
      "cell_type": "code",
      "source": [
        "#91.How do you vertically and horizontally stack two arrays?\n",
        "import numpy as np\n",
        "A = np.array([[1, 2], [3, 4]])\n",
        "B = np.array([[5, 6], [7, 8]])\n",
        "vstacked = np.vstack((A, B))\n",
        "print(\"Vertical stack:\\n\", vstacked)\n",
        "hstacked = np.hstack((A, B))\n",
        "print(\"Horizontal stack:\\n\", hstacked)\n"
      ],
      "metadata": {
        "colab": {
          "base_uri": "https://localhost:8080/"
        },
        "id": "9YfgkPoz6LlG",
        "outputId": "1ddb4698-258e-49d2-8ae1-6ffd171e0cf6"
      },
      "execution_count": null,
      "outputs": [
        {
          "output_type": "stream",
          "name": "stdout",
          "text": [
            "Vertical stack:\n",
            " [[1 2]\n",
            " [3 4]\n",
            " [5 6]\n",
            " [7 8]]\n",
            "Horizontal stack:\n",
            " [[1 2 5 6]\n",
            " [3 4 7 8]]\n"
          ]
        }
      ]
    },
    {
      "cell_type": "code",
      "source": [
        "#92.How do you apply a custom function to each element of an array?\n",
        "def my_func(x):\n",
        "    return x**2 + 1\n",
        "arr = np.array([1, 2, 3, 4])\n",
        "vec_func = np.vectorize(my_func)\n",
        "result = vec_func(arr)\n",
        "print(result)"
      ],
      "metadata": {
        "colab": {
          "base_uri": "https://localhost:8080/"
        },
        "id": "r7IT5oXG6rWj",
        "outputId": "7366d9ee-6f5b-4fea-d460-fb906a45d4f3"
      },
      "execution_count": null,
      "outputs": [
        {
          "output_type": "stream",
          "name": "stdout",
          "text": [
            "[ 2  5 10 17]\n"
          ]
        }
      ]
    },
    {
      "cell_type": "code",
      "source": [
        "#93.How do you remove duplicate rows in a 2D array?\n",
        "A = np.array([[1, 2],\n",
        "              [3, 4],\n",
        "              [1, 2]])\n",
        "unique_rows = np.unique(A, axis=0)\n",
        "print(unique_rows)\n"
      ],
      "metadata": {
        "colab": {
          "base_uri": "https://localhost:8080/"
        },
        "id": "2OXzDkXR61mp",
        "outputId": "d8c9b7c9-c7e1-4bb8-b549-b499b3c82d64"
      },
      "execution_count": null,
      "outputs": [
        {
          "output_type": "stream",
          "name": "stdout",
          "text": [
            "[[1 2]\n",
            " [3 4]]\n"
          ]
        }
      ]
    },
    {
      "cell_type": "code",
      "source": [
        "#94.How do you filter rows based on a specific column value?\n",
        "A = np.array([[1, 2],\n",
        "              [3, 4],\n",
        "              [5, 2]])\n",
        "filtered = A[A[:, 1] == 2]\n",
        "print(filtered)\n"
      ],
      "metadata": {
        "colab": {
          "base_uri": "https://localhost:8080/"
        },
        "id": "8P6A6aTQ6-0z",
        "outputId": "7ae71f46-2c83-448c-f1b5-ccd06e4b4ed6"
      },
      "execution_count": null,
      "outputs": [
        {
          "output_type": "stream",
          "name": "stdout",
          "text": [
            "[[1 2]\n",
            " [5 2]]\n"
          ]
        }
      ]
    },
    {
      "cell_type": "code",
      "source": [
        "#95.How do you find column-wise and row-wise minimum/maximum indices?\n",
        "import numpy as np\n",
        "A = np.array([[3, 1, 4],\n",
        "              [2, 5, 0],\n",
        "              [7, 2, 6]])\n",
        "col_min_idx = np.argmin(A, axis=0)\n",
        "col_max_idx = np.argmax(A, axis=0)\n",
        "row_min_idx = np.argmin(A, axis=1)\n",
        "row_max_idx = np.argmax(A, axis=1)\n",
        "\n",
        "print(\"Col min indices:\", col_min_idx)\n",
        "print(\"Col max indices:\", col_max_idx)\n",
        "print(\"Row min indices:\", row_min_idx)\n",
        "print(\"Row max indices:\", row_max_idx)\n"
      ],
      "metadata": {
        "colab": {
          "base_uri": "https://localhost:8080/"
        },
        "id": "WsC6RoNk7F3n",
        "outputId": "f1181944-e087-496e-a89a-ead88425b6ee"
      },
      "execution_count": null,
      "outputs": [
        {
          "output_type": "stream",
          "name": "stdout",
          "text": [
            "Col min indices: [1 0 1]\n",
            "Col max indices: [2 1 2]\n",
            "Row min indices: [1 2 1]\n",
            "Row max indices: [2 1 0]\n"
          ]
        }
      ]
    },
    {
      "cell_type": "code",
      "source": [
        "#96.How do you replace NaN values in an array with the column mean?\n",
        "A = np.array([[1, 2, np.nan],\n",
        "              [4, np.nan, 6],\n",
        "              [7, 8, 9]], dtype=float)\n",
        "col_mean = np.nanmean(A, axis=0)\n",
        "inds = np.where(np.isnan(A))\n",
        "A[inds] = np.take(col_mean, inds[1])\n",
        "print(A)\n"
      ],
      "metadata": {
        "colab": {
          "base_uri": "https://localhost:8080/"
        },
        "id": "cqu2SHgS7Tqw",
        "outputId": "7fe26fb8-d130-4788-dd58-61f7a3d87a6e"
      },
      "execution_count": null,
      "outputs": [
        {
          "output_type": "stream",
          "name": "stdout",
          "text": [
            "[[1.  2.  7.5]\n",
            " [4.  5.  6. ]\n",
            " [7.  8.  9. ]]\n"
          ]
        }
      ]
    },
    {
      "cell_type": "code",
      "source": [
        "#97.How do you flatten and sort a 2D array?\n",
        "A = np.array([[3, 1, 4],\n",
        "              [2, 5, 0]])\n",
        "\n",
        "flattened_sorted = np.sort(A.ravel())\n",
        "print(flattened_sorted)"
      ],
      "metadata": {
        "colab": {
          "base_uri": "https://localhost:8080/"
        },
        "id": "shjmkHZO7bGB",
        "outputId": "0e24ade1-5dab-49e2-8644-8f28c0070114"
      },
      "execution_count": null,
      "outputs": [
        {
          "output_type": "stream",
          "name": "stdout",
          "text": [
            "[0 1 2 3 4 5]\n"
          ]
        }
      ]
    },
    {
      "cell_type": "code",
      "source": [
        "#98.How do you calculate the correlation coefficient between two vectors?\n",
        "x = np.array([1, 2, 3, 4])\n",
        "y = np.array([10, 20, 30, 40])\n",
        "\n",
        "corr = np.corrcoef(x, y)[0, 1]\n",
        "print(corr)\n"
      ],
      "metadata": {
        "colab": {
          "base_uri": "https://localhost:8080/"
        },
        "id": "gEVB4los7wiy",
        "outputId": "87e3d01b-fc2d-40ad-9080-2ac3f55dc2c5"
      },
      "execution_count": null,
      "outputs": [
        {
          "output_type": "stream",
          "name": "stdout",
          "text": [
            "1.0\n"
          ]
        }
      ]
    },
    {
      "cell_type": "code",
      "source": [
        "#99.How do you extract the top-K values along a specific axis?\n",
        "A = np.array([[1, 3, 2],\n",
        "              [7, 5, 6]])\n",
        "K = 2\n",
        "idx = np.argpartition(-A, K-1, axis=1)[:, :K]\n",
        "topK = np.take_along_axis(A, idx, axis=1)\n",
        "print(topK)"
      ],
      "metadata": {
        "colab": {
          "base_uri": "https://localhost:8080/"
        },
        "id": "DL_M8f2271lZ",
        "outputId": "7c32c51c-1b17-45be-e445-b8c3922e9315"
      },
      "execution_count": null,
      "outputs": [
        {
          "output_type": "stream",
          "name": "stdout",
          "text": [
            "[[3 2]\n",
            " [7 6]]\n"
          ]
        }
      ]
    },
    {
      "cell_type": "code",
      "source": [
        "#100.How do you detect outliers in a dataset using IQR?\n",
        "import numpy as np\n",
        "A = np.array([1, 2, 5, 7, 10, 12, 15, 100])\n",
        "Q1 = np.percentile(A, 25)\n",
        "Q3 = np.percentile(A, 75)\n",
        "IQR = Q3 - Q1\n",
        "lower_bound = Q1 - 1.5 * IQR\n",
        "upper_bound = Q3 + 1.5 * IQR\n",
        "outliers = A[(A < lower_bound) | (A > upper_bound)]\n",
        "\n",
        "print(\"Data:\", A)\n",
        "print(\"Q1:\", Q1)\n",
        "print(\"Q3:\", Q3)\n",
        "print(\"IQR:\", IQR)\n",
        "print(\"Lower bound:\", lower_bound)\n",
        "print(\"Upper bound:\", upper_bound)\n",
        "print(\"Outliers:\", outliers)"
      ],
      "metadata": {
        "colab": {
          "base_uri": "https://localhost:8080/"
        },
        "id": "buoElaJD8J0T",
        "outputId": "34d1ca07-e2cf-4b32-b9b4-2e5a3f9702cb"
      },
      "execution_count": null,
      "outputs": [
        {
          "output_type": "stream",
          "name": "stdout",
          "text": [
            "Data: [  1   2   5   7  10  12  15 100]\n",
            "Q1: 4.25\n",
            "Q3: 12.75\n",
            "IQR: 8.5\n",
            "Lower bound: -8.5\n",
            "Upper bound: 25.5\n",
            "Outliers: [100]\n"
          ]
        }
      ]
    },
    {
      "cell_type": "code",
      "source": [
        "#101.How do you perform one-hot encoding using NumPy?\n",
        "import numpy as np\n",
        "labels = np.array([0, 2, 1, 3])\n",
        "num_classes = 4\n",
        "one_hot = np.zeros((labels.size, num_classes), dtype=int)\n",
        "one_hot[np.arange(labels.size), labels] = 1\n",
        "print(one_hot)\n"
      ],
      "metadata": {
        "colab": {
          "base_uri": "https://localhost:8080/"
        },
        "id": "_5bzlK0Z8kDJ",
        "outputId": "745e7b98-375e-4868-bc7b-cdd0c44de4fb"
      },
      "execution_count": null,
      "outputs": [
        {
          "output_type": "stream",
          "name": "stdout",
          "text": [
            "[[1 0 0 0]\n",
            " [0 0 1 0]\n",
            " [0 1 0 0]\n",
            " [0 0 0 1]]\n"
          ]
        }
      ]
    },
    {
      "cell_type": "code",
      "source": [
        "#102.How do you find the shape and number of elements in an array?\n",
        "A = np.random.rand(3, 4, 5)\n",
        "print(\"Shape:\", A.shape)\n",
        "print(\"Number of elements:\", A.size)\n"
      ],
      "metadata": {
        "colab": {
          "base_uri": "https://localhost:8080/"
        },
        "id": "l_rePM8u8wuC",
        "outputId": "51ad7183-6127-4c8a-cac1-ba9f565312fd"
      },
      "execution_count": null,
      "outputs": [
        {
          "output_type": "stream",
          "name": "stdout",
          "text": [
            "Shape: (3, 4, 5)\n",
            "Number of elements: 60\n"
          ]
        }
      ]
    },
    {
      "cell_type": "code",
      "source": [
        "#103.How do you reshape an array without changing its data?\n",
        "A = np.arange(12)\n",
        "B = A.reshape(3, 4)\n",
        "print(B)\n"
      ],
      "metadata": {
        "colab": {
          "base_uri": "https://localhost:8080/"
        },
        "id": "5fOexBiA87If",
        "outputId": "f986523c-336b-480b-e177-83e6dfffe702"
      },
      "execution_count": null,
      "outputs": [
        {
          "output_type": "stream",
          "name": "stdout",
          "text": [
            "[[ 0  1  2  3]\n",
            " [ 4  5  6  7]\n",
            " [ 8  9 10 11]]\n"
          ]
        }
      ]
    },
    {
      "cell_type": "code",
      "source": [
        "#104.How do you flatten a multi-dimensional array?\n",
        "A = np.array([[1, 2, 3],\n",
        "              [4, 5, 6]])\n",
        "\n",
        "flat1 = A.ravel()\n",
        "flat2 = A.flatten()\n",
        "\n",
        "print(flat1)\n",
        "print(flat2)\n"
      ],
      "metadata": {
        "colab": {
          "base_uri": "https://localhost:8080/"
        },
        "id": "pCvCLQlO9ECW",
        "outputId": "667d0d0a-0b09-47c2-f22b-669576fa988a"
      },
      "execution_count": null,
      "outputs": [
        {
          "output_type": "stream",
          "name": "stdout",
          "text": [
            "[1 2 3 4 5 6]\n",
            "[1 2 3 4 5 6]\n"
          ]
        }
      ]
    },
    {
      "cell_type": "code",
      "source": [
        "#105.How do you get the cumulative sum along an axis?\n",
        "A = np.array([[1, 2, 3],\n",
        "              [4, 5, 6]])\n",
        "\n",
        "cumsum0 = np.cumsum(A, axis=0)\n",
        "\n",
        "cumsum1 = np.cumsum(A, axis=1)\n",
        "\n",
        "print(\"Axis 0:\\n\", cumsum0)\n",
        "print(\"Axis 1:\\n\", cumsum1)\n"
      ],
      "metadata": {
        "colab": {
          "base_uri": "https://localhost:8080/"
        },
        "id": "Abvw8FLb9LxJ",
        "outputId": "31b26bbb-2827-4744-cd6d-31533e588b7e"
      },
      "execution_count": null,
      "outputs": [
        {
          "output_type": "stream",
          "name": "stdout",
          "text": [
            "Axis 0:\n",
            " [[1 2 3]\n",
            " [5 7 9]]\n",
            "Axis 1:\n",
            " [[ 1  3  6]\n",
            " [ 4  9 15]]\n"
          ]
        }
      ]
    },
    {
      "cell_type": "code",
      "source": [
        "#106.How do you compute element-wise maximum/minimum of two arrays?\n",
        "import numpy as np\n",
        "\n",
        "A = np.array([1, 4, 3])\n",
        "B = np.array([2, 2, 5])\n",
        "\n",
        "elem_max = np.maximum(A, B)\n",
        "elem_min = np.minimum(A, B)\n",
        "\n",
        "print(\"Element-wise max:\", elem_max)\n",
        "print(\"Element-wise min:\", elem_min)\n"
      ],
      "metadata": {
        "colab": {
          "base_uri": "https://localhost:8080/"
        },
        "id": "1wNhszRU9VzY",
        "outputId": "9f278dc1-d698-4219-fb6d-0c739e708c8d"
      },
      "execution_count": null,
      "outputs": [
        {
          "output_type": "stream",
          "name": "stdout",
          "text": [
            "Element-wise max: [2 4 5]\n",
            "Element-wise min: [1 2 3]\n"
          ]
        }
      ]
    },
    {
      "cell_type": "code",
      "source": [
        "#107.How do you broadcast arrays with different shapes?\n",
        "A = np.array([[1], [2], [3]])\n",
        "B = np.array([10, 20, 30])\n",
        "C = A + B\n",
        "print(C)\n",
        "print(\"Shape:\", C.shape)\n"
      ],
      "metadata": {
        "colab": {
          "base_uri": "https://localhost:8080/"
        },
        "id": "hFBLkpYl9egb",
        "outputId": "bdf20b7e-3428-4ce6-9705-92ff23f532c7"
      },
      "execution_count": null,
      "outputs": [
        {
          "output_type": "stream",
          "name": "stdout",
          "text": [
            "[[11 21 31]\n",
            " [12 22 32]\n",
            " [13 23 33]]\n",
            "Shape: (3, 3)\n"
          ]
        }
      ]
    },
    {
      "cell_type": "code",
      "source": [
        "#108.How do you transpose a matrix and perform dot products?\n",
        "A = np.array([[1, 2], [3, 4]])\n",
        "B = np.array([[5, 6], [7, 8]])\n",
        "\n",
        "At = A.T\n",
        "\n",
        "dot_AB = np.dot(A, B)\n",
        "dot_AtB = np.dot(At, B)\n",
        "\n",
        "print(\"A.T:\\n\", At)\n",
        "print(\"A·B:\\n\", dot_AB)\n",
        "print(\"A.T·B:\\n\", dot_AtB)\n"
      ],
      "metadata": {
        "colab": {
          "base_uri": "https://localhost:8080/"
        },
        "id": "bjK9g_DK9n0n",
        "outputId": "c6f9e5d0-3db4-4274-82c1-e177e82f2497"
      },
      "execution_count": null,
      "outputs": [
        {
          "output_type": "stream",
          "name": "stdout",
          "text": [
            "A.T:\n",
            " [[1 3]\n",
            " [2 4]]\n",
            "A·B:\n",
            " [[19 22]\n",
            " [43 50]]\n",
            "A.T·B:\n",
            " [[26 30]\n",
            " [38 44]]\n"
          ]
        }
      ]
    },
    {
      "cell_type": "code",
      "source": [
        "#109.How do you check for NaN or infinite values in an array?\n",
        "A = np.array([1, np.nan, np.inf, -np.inf, 5])\n",
        "\n",
        "nan_mask = np.isnan(A)\n",
        "inf_mask = np.isinf(A)\n",
        "finite_mask = np.isfinite(A)\n",
        "\n",
        "print(\"NaNs:\", nan_mask)\n",
        "print(\"Infs:\", inf_mask)\n",
        "print(\"Finite:\", finite_mask)\n"
      ],
      "metadata": {
        "colab": {
          "base_uri": "https://localhost:8080/"
        },
        "id": "PRm9DTVl9yB_",
        "outputId": "d14c80e4-bc87-4baf-b34f-16c19a1a9829"
      },
      "execution_count": null,
      "outputs": [
        {
          "output_type": "stream",
          "name": "stdout",
          "text": [
            "NaNs: [False  True False False False]\n",
            "Infs: [False False  True  True False]\n",
            "Finite: [ True False False False  True]\n"
          ]
        }
      ]
    },
    {
      "cell_type": "code",
      "source": [
        "#110.How do you extract diagonal, upper, and lower triangles from a matrix?\n",
        "A = np.arange(1, 10).reshape(3, 3)\n",
        "\n",
        "diag = np.diag(A)\n",
        "upper = np.triu(A)\n",
        "lower = np.tril(A)\n",
        "\n",
        "print(\"Diagonal:\", diag)\n",
        "print(\"Upper triangle:\\n\", upper)\n",
        "print(\"Lower triangle:\\n\", lower)\n"
      ],
      "metadata": {
        "colab": {
          "base_uri": "https://localhost:8080/"
        },
        "id": "25IMaMla95ZZ",
        "outputId": "df3bbdce-406d-4084-b1ba-1b2d3f0d9847"
      },
      "execution_count": null,
      "outputs": [
        {
          "output_type": "stream",
          "name": "stdout",
          "text": [
            "Diagonal: [1 5 9]\n",
            "Upper triangle:\n",
            " [[1 2 3]\n",
            " [0 5 6]\n",
            " [0 0 9]]\n",
            "Lower triangle:\n",
            " [[1 0 0]\n",
            " [4 5 0]\n",
            " [7 8 9]]\n"
          ]
        }
      ]
    },
    {
      "cell_type": "code",
      "source": [],
      "metadata": {
        "id": "S_FhWOX39_cA"
      },
      "execution_count": null,
      "outputs": []
    }
  ]
}